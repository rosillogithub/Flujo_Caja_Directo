{
 "cells": [
  {
   "cell_type": "markdown",
   "metadata": {},
   "source": [
    "# pipeline de análisis de datos para reportes fiscales y contables"
   ]
  },
  {
   "cell_type": "markdown",
   "metadata": {},
   "source": [
    "==========================================================================================================="
   ]
  },
  {
   "cell_type": "markdown",
   "metadata": {},
   "source": [
    "## JUSTIFICACIÓN\n",
    "1.\tConstruir proyectos que se visualicen en Github usando herramientas de análisis de datos y manejo de bases de datos.\n",
    "2.\tDesarrollar una herramienta de automatice el trabajo.\n",
    "3.\tEstructurar la base de datos para el desarrollo de aplicación web o escritorio.\n",
    "4.\tAdquirir experiencia"
   ]
  },
  {
   "cell_type": "markdown",
   "metadata": {},
   "source": [
    "## OBJETIVO\n",
    "Crear y actualizar una base de datos local (en la segunda fase se creará la base de datos en Google Drive u otro lugar en la nube) conformada por una tabla de transacciones para generar reportes y archivos de Excel. Esto en un entorno de Visual Studio Code con las extensiones de Jupyter Notebook, Github Copilot, Python y MySQL. Se usará DBeaver como complemento.\n",
    "\n",
    "En la segunda fase se creará y actualizará la base de datos en Google Drive u otro lugar en la nube"
   ]
  },
  {
   "cell_type": "markdown",
   "metadata": {},
   "source": [
    "## Etapas o Prioridades: \n",
    "*\tContable: Flujo de Caja\n",
    "*\tFiscal: Informe periodico de IVA\n",
    "*\tFiscal: Informe periodico de ICA\n",
    "*\tFiscal: Informe periodico de Retenciones en la fuente\n",
    "*\tFiscal: Informe periodico de Impuesto sobre la Renta\n",
    "*\tFiscal: reporte de informaciòn exógena\n",
    "*\tContable: Estados Financieros básicos\n",
    "*\tContable: Notas a Estados Financieros"
   ]
  },
  {
   "cell_type": "markdown",
   "metadata": {},
   "source": [
    "## Enfoque: \n",
    "Base de Datos funcional y actualizable con Visual Studio Code, MySQL y DBeaver\n"
   ]
  },
  {
   "cell_type": "markdown",
   "metadata": {},
   "source": [
    "## HERRAMIENTAS\n",
    "* Entorno virtual.\n",
    "* Visual Studio Code + extensiones1 → Jupyter Notebook, Python, MySQL y Github Copilot.\n",
    "* Git y Github como herramienta de versionamiento.\n",
    "* Dbeaver."
   ]
  },
  {
   "cell_type": "markdown",
   "metadata": {},
   "source": [
    "Entorno virtual\n",
    "* Abrir la terminal integrada en Visual Studio Code (View -> Terminal)\n",
    "* cd path_to_your_environment → ruta al directorio donde se encuentra tu entorno virtual\n",
    "* \\env\\Scripts\\activate → activa el entorno virtual"
   ]
  },
  {
   "cell_type": "code",
   "execution_count": 2,
   "metadata": {},
   "outputs": [
    {
     "name": "stdout",
     "output_type": "stream",
     "text": [
      "C:\\Emprendimiento\\Pry_Datos\n"
     ]
    }
   ],
   "source": [
    "# Cambia el directorio de trabajo a 'C:/path/to/your/directory'\n",
    "os.chdir('C:/Emprendimiento/Pry_Datos/')\n",
    "\n",
    "# Imprime la ruta del directorio de trabajo actual\n",
    "print(os.getcwd())"
   ]
  },
  {
   "cell_type": "markdown",
   "metadata": {},
   "source": [
    "## Tablas\n",
    "La primera propuesta es generar una sola tabla maestra (semejante al excel que dio origen a este proyecto) en donde:\n",
    "* la filas contienen los códigos contables (cuentas con registros transaccionales)\n",
    "* Una columa para cada objetivo con el código equivalente para realizar acumulados en otra tabla\n",
    "\n",
    "Se generará una sola tabla (robusta y/o pesada).\n",
    "* Pro: Una sola tabla que facilita el control y las validaciones\n",
    "* Pro: Integridad, elimina el riesgo de se olvide trasladar o actualizar una tabla\n",
    "* Contras: Puede llegar a ser muy pesada\n",
    "* Por comprobar: portabilidad\n",
    "\n",
    "\n",
    "La segunda propuesta es crear:\n",
    "* Una tabla maestra de códigos contables (cuentas con registros transaccionales).\n",
    "* Una tabla maestra para cada propósito, cada una vinculada con la tabla de códigos contables.\n",
    "\n",
    "Se crearán muchas tablas.\n",
    "* Pros: Distribución de peso de la Base de dato (tablas más pequeñas)\n",
    "* Contras: \"Riesgo no integridad\" → que se pierda o se deje de actualizar una o más tablas. \n",
    "* Contras: Implementar validaciones constantes para mitigar el riesgo de no integridad\n",
    "* Por comprobar: portabilidad"
   ]
  },
  {
   "cell_type": "markdown",
   "metadata": {},
   "source": [
    "==========================================================================================================================="
   ]
  },
  {
   "cell_type": "markdown",
   "metadata": {},
   "source": [
    "En el proceso de implementación se debe crear la tabla de acumulados (agregación) con el mes y el año del primer periodo\n",
    "\n",
    "En el proceso de producción, \"antes\" de ejecutar la actualización o los cálculos en la tabla de acumulados (agregación):\n",
    "1. Se deben crear nuevas columnas a medida que la tabla trasaccional tenga nuevos periodos mes/año \n",
    "2. Se deben crear nuevas filas → Comparar contra la tabla \"tbl_fcdir_items_"
   ]
  },
  {
   "cell_type": "code",
   "execution_count": null,
   "metadata": {},
   "outputs": [],
   "source": []
  },
  {
   "cell_type": "markdown",
   "metadata": {},
   "source": [
    "Bases de Datos\n",
    "* Crear/cargar códigos de grupos\n",
    "* Crear/cargar códigos de items\n",
    "* Cargar datos transaccionales\n",
    "\n",
    "Cargar información en Dataframe con registros para Flujo de Caja Directo\n",
    "* Cargar desde la tabla/Base de datos códigos de item y grupo\n",
    "* Advertir sobre los registros que quedan sin código\n",
    "\n",
    "Tabla de agregados (fuente de directa para generar reporte)\n",
    "* Crear la tabla de agregados\n",
    "* actualizar la tabla de agregados con Trigger o procedimiento almacenado\n",
    "* Crear el reporte \n",
    "* Insertar subtotales de grupos (en el reporte o en la tabla de datos?)\n",
    "* Imprimir por rangos"
   ]
  },
  {
   "cell_type": "markdown",
   "metadata": {},
   "source": [
    "Seguridad\n"
   ]
  },
  {
   "cell_type": "markdown",
   "metadata": {},
   "source": [
    "=============================================================================================================================="
   ]
  },
  {
   "cell_type": "markdown",
   "metadata": {},
   "source": [
    "\n",
    "Base de datos\n",
    "* Con datos reales (actualizar: funciones de agrupación o agregación) desde el Dataframe con registros Flujo de Caja Directo\n",
    "* Con datos proyectados (cargar cifras)\n",
    "\n",
    "Reportes\n",
    "* Flujo de Caja Directo con datos reales\n",
    "* Flujo de Caja Directo con datos proyectados\n",
    "* Flujo de Caja Directo con datos reales (ytd) y estimados (forecast)\n",
    "\n",
    "Convertir a un archivo Python ejecutable"
   ]
  },
  {
   "cell_type": "markdown",
   "metadata": {},
   "source": []
  }
 ],
 "metadata": {
  "kernelspec": {
   "display_name": "Python 3",
   "language": "python",
   "name": "python3"
  },
  "language_info": {
   "codemirror_mode": {
    "name": "ipython",
    "version": 3
   },
   "file_extension": ".py",
   "mimetype": "text/x-python",
   "name": "python",
   "nbconvert_exporter": "python",
   "pygments_lexer": "ipython3",
   "version": "3.10.7"
  }
 },
 "nbformat": 4,
 "nbformat_minor": 2
}
