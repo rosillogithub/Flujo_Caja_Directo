{
 "cells": [
  {
   "cell_type": "code",
   "execution_count": 1,
   "metadata": {},
   "outputs": [],
   "source": [
    "import os\n",
    "import pandas as pd\n",
    "import mysql.connector\n",
    "import configparser"
   ]
  },
  {
   "cell_type": "code",
   "execution_count": 2,
   "metadata": {},
   "outputs": [],
   "source": [
    "# Leer las credenciales del archivo de configuración\n",
    "config = configparser.ConfigParser()\n",
    "config.read('config.ini')\n",
    "\n",
    "user = config['database']['user']\n",
    "password = config['database']['password']\n",
    "host = config['database']['host']\n",
    "database = config['database']['database']"
   ]
  },
  {
   "cell_type": "code",
   "execution_count": 3,
   "metadata": {},
   "outputs": [],
   "source": [
    "# Abrir la base de datos: establecer la conexión\n",
    "cnx = mysql.connector.connect(user=user, password=password, host=host, database=database)\n",
    "\n",
    "# crear un cursor\n",
    "cursor = cnx.cursor()\n",
    "\n",
    "# seleccionar la base de datos\n",
    "cursor.execute(\"USE flujo_caja_directo \")\n",
    "\n",
    "# =====================================================================================================================\n",
    "\n",
    "# crear tabla de agregación en blanco (para acumular las transacciones de cada item por mes)\n",
    "cursor.execute(\"\"\"\n",
    "    CREATE TABLE tbl_flujo_reporte (\n",
    "    id_item INT(11) NOT NULL AUTO_INCREMENT,\n",
    "    id_item_cod INT(11) NOT NULL,\n",
    "    anio INT(11) NOT NULL,\n",
    "    mes INT(11) NOT NULL,\n",
    "    total_neto DECIMAL(18,2),\n",
    "    PRIMARY KEY (id_item)\n",
    "    );\n",
    "\"\"\")\n",
    "\n",
    "# No se requieren llaves foraneas porque no se harán registros manuales en esta tabla\n",
    "# Es decir, esta tabla únicamente se llenará con los datos de la tabla de transacciones\n",
    "# Si se requiere un registro manual, se deberá hacer en el informe de flujo de caja que se genere en excel\n",
    "# =====================================================================================================================\n",
    "\n",
    "# crear tabla de presupuesto en blanco\n",
    "cursor.execute(\"\"\"\n",
    "    CREATE TABLE tbl_flujo_estimado (\n",
    "    id_item INT(11) NOT NULL AUTO_INCREMENT,\n",
    "    id_item_cod INT(11) NOT NULL,\n",
    "    anio INT(11) NOT NULL,\n",
    "    mes INT(11) NOT NULL,\n",
    "    total_neto DECIMAL(18,2),\n",
    "    PRIMARY KEY (id_item)\n",
    "    );\n",
    "\"\"\")\n",
    "\n",
    "# No se requieren llaves foraneas porque no se harán registros manuales en esta tabla\n",
    "# Es decir, esta tabla únicamente se llenará con los datos de la tabla de transacciones\n",
    "# Si se requiere un registro manual, se deberá hacer en el informe de flujo de caja que se genere en excel\n",
    "# =====================================================================================================================\n",
    "\n",
    "# Bajo el diseño de tablas y modelo para resumir y actualizar → Ya no se necesitan los triggres!!!!\n",
    "\n",
    "# Cerrar cursor\n",
    "cursor.close()\n",
    "\n",
    "# cerrar la conexión\n",
    "cnx.commit()\n",
    "cnx.close()"
   ]
  },
  {
   "cell_type": "code",
   "execution_count": null,
   "metadata": {},
   "outputs": [],
   "source": []
  }
 ],
 "metadata": {
  "kernelspec": {
   "display_name": "Python 3",
   "language": "python",
   "name": "python3"
  },
  "language_info": {
   "codemirror_mode": {
    "name": "ipython",
    "version": 3
   },
   "file_extension": ".py",
   "mimetype": "text/x-python",
   "name": "python",
   "nbconvert_exporter": "python",
   "pygments_lexer": "ipython3",
   "version": "3.10.7"
  }
 },
 "nbformat": 4,
 "nbformat_minor": 2
}
