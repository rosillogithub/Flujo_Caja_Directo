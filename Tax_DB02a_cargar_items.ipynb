{
 "cells": [
  {
   "cell_type": "code",
   "execution_count": 19,
   "metadata": {},
   "outputs": [
    {
     "name": "stdout",
     "output_type": "stream",
     "text": [
      "c:\\Emprendimiento\\env\\Scripts\\python.exe\n"
     ]
    }
   ],
   "source": [
    "import os\n",
    "import pandas as pd\n",
    "\n",
    "import sys\n",
    "print(sys.executable)"
   ]
  },
  {
   "cell_type": "code",
   "execution_count": 20,
   "metadata": {},
   "outputs": [],
   "source": [
    "# !pip install mysql-connector-python"
   ]
  },
  {
   "cell_type": "code",
   "execution_count": 21,
   "metadata": {},
   "outputs": [],
   "source": [
    "import mysql.connector\n",
    "# establecer la conexión\n",
    "cnx = mysql.connector.connect(user='root', password='mysql20', host='localhost')"
   ]
  },
  {
   "cell_type": "code",
   "execution_count": 22,
   "metadata": {},
   "outputs": [],
   "source": [
    "# crear un cursor\n",
    "cursor = cnx.cursor()\n",
    "\n",
    "# Si la base de datos ya existe, eliminarla por MySQL Workbench o por código\n",
    "\n",
    "# crear una nueva base de datos\n",
    "cursor.execute(\"CREATE DATABASE flujo_caja_directo\")\n",
    "\n",
    "# seleccionar la base de datos\n",
    "cursor.execute(\"USE flujo_caja_directo \")"
   ]
  },
  {
   "cell_type": "code",
   "execution_count": 23,
   "metadata": {},
   "outputs": [],
   "source": [
    "# crear tabla de grupos\n",
    "cursor.execute(\"\"\"\n",
    "    CREATE TABLE tbl_FCDir_grupos (\n",
    "        id_grp INT PRIMARY KEY,\n",
    "        name VARCHAR(40)\n",
    "    )\n",
    "\"\"\")\n",
    "\n",
    "# Despues de crear la tabla, agregar el parámetro AUTO_INCREMENT a la columna id_grp\n"
   ]
  },
  {
   "cell_type": "code",
   "execution_count": 24,
   "metadata": {},
   "outputs": [],
   "source": [
    "# crear tabla de items\n",
    "cursor.execute(\"\"\"\n",
    "    CREATE TABLE tbl_FCDir_items (\n",
    "        id_item INT PRIMARY KEY,\n",
    "        name VARCHAR(100),\n",
    "        id_grp INT,\n",
    "        FOREIGN KEY (id_grp) REFERENCES tbl_FCDir_grupos(id_grp)\n",
    "    )\n",
    "\"\"\")\n",
    "\n",
    "# Despues de crear la tabla, agregar el parámetro AUTO_INCREMENT a la columna id_item"
   ]
  },
  {
   "cell_type": "code",
   "execution_count": 25,
   "metadata": {},
   "outputs": [],
   "source": [
    "# crear tabla de codigos contables\n",
    "cursor.execute(\"\"\"\n",
    "    CREATE TABLE tbl_FCDir_contab (\n",
    "        id_cod INT PRIMARY KEY,\n",
    "        cod_cont INT,\n",
    "        name VARCHAR(80),\n",
    "        id_item INT,\n",
    "        FOREIGN KEY (id_item) REFERENCES tbl_FCDir_items(id_item)\n",
    "    )\n",
    "\"\"\")\n",
    "\n",
    "# Despues de crear la tabla, agregar el parámetro AUTO_INCREMENT a la columna id_cod"
   ]
  },
  {
   "cell_type": "code",
   "execution_count": 26,
   "metadata": {},
   "outputs": [
    {
     "name": "stdout",
     "output_type": "stream",
     "text": [
      "c:\\Emprendimiento\n"
     ]
    }
   ],
   "source": [
    "# Cambia el directorio de trabajo a 'C:/path/to/your/directory'\n",
    "# os.chdir('C:/Emprendimiento/Pry_Datos/')\n",
    "\n",
    "# Imprime la ruta del directorio de trabajo actual\n",
    "print(os.getcwd())"
   ]
  },
  {
   "cell_type": "code",
   "execution_count": 27,
   "metadata": {},
   "outputs": [
    {
     "ename": "ModuleNotFoundError",
     "evalue": "No module named 'sqlalchemy'",
     "output_type": "error",
     "traceback": [
      "\u001b[1;31m---------------------------------------------------------------------------\u001b[0m",
      "\u001b[1;31mModuleNotFoundError\u001b[0m                       Traceback (most recent call last)",
      "Cell \u001b[1;32mIn[27], line 2\u001b[0m\n\u001b[0;32m      1\u001b[0m \u001b[38;5;66;03m# cargar  la tabla registros_contables con datos desde un archivo excel\u001b[39;00m\n\u001b[1;32m----> 2\u001b[0m \u001b[38;5;28;01mfrom\u001b[39;00m \u001b[38;5;21;01msqlalchemy\u001b[39;00m \u001b[38;5;28;01mimport\u001b[39;00m create_engine\n\u001b[0;32m      4\u001b[0m \u001b[38;5;66;03m# Crea un motor de SQLAlchemy que se conecta a tu base de datos MySQL\u001b[39;00m\n\u001b[0;32m      5\u001b[0m engine \u001b[38;5;241m=\u001b[39m create_engine(\u001b[38;5;124m'\u001b[39m\u001b[38;5;124mmysql+mysqlconnector://[root]:[mysql20]@[localhost]:[3306]/[flujo_caja_directo]\u001b[39m\u001b[38;5;124m'\u001b[39m, echo\u001b[38;5;241m=\u001b[39m\u001b[38;5;28;01mFalse\u001b[39;00m)\n",
      "\u001b[1;31mModuleNotFoundError\u001b[0m: No module named 'sqlalchemy'"
     ]
    }
   ],
   "source": [
    "# cargar  la tabla registros_contables con datos desde un archivo excel\n",
    "from sqlalchemy import create_engine\n",
    "\n",
    "# Crea un motor de SQLAlchemy que se conecta a tu base de datos MySQL\n",
    "engine = create_engine('mysql+mysqlconnector://[root]:[mysql20]@[localhost]:[3306]/[flujo_caja_directo]', echo=False)\n",
    "\n",
    "# Lee el archivo Excel en un DataFrame de pandas\n",
    "df = pd.read_excel('tu_archivo.xlsx')\n",
    "\n",
    "# Escribe el DataFrame en la tabla 'codigos_contables' de tu base de datos MySQL\n",
    "df.to_sql(name='codigos_contables', con=engine, if_exists='append', index=False)\n"
   ]
  },
  {
   "cell_type": "code",
   "execution_count": null,
   "metadata": {},
   "outputs": [
    {
     "data": {
      "text/plain": [
       "True"
      ]
     },
     "execution_count": 9,
     "metadata": {},
     "output_type": "execute_result"
    }
   ],
   "source": [
    "# Cerrar cursor\n",
    "cursor.close()"
   ]
  },
  {
   "cell_type": "code",
   "execution_count": null,
   "metadata": {},
   "outputs": [],
   "source": [
    "# cerrar la conexión\n",
    "cnx.close()"
   ]
  },
  {
   "cell_type": "code",
   "execution_count": null,
   "metadata": {},
   "outputs": [],
   "source": []
  }
 ],
 "metadata": {
  "kernelspec": {
   "display_name": "Python 3",
   "language": "python",
   "name": "python3"
  },
  "language_info": {
   "codemirror_mode": {
    "name": "ipython",
    "version": 3
   },
   "file_extension": ".py",
   "mimetype": "text/x-python",
   "name": "python",
   "nbconvert_exporter": "python",
   "pygments_lexer": "ipython3",
   "version": "3.10.7"
  }
 },
 "nbformat": 4,
 "nbformat_minor": 2
}
