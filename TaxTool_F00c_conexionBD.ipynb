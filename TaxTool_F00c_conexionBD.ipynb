{
 "cells": [
  {
   "cell_type": "code",
   "execution_count": 2,
   "metadata": {},
   "outputs": [
    {
     "name": "stdout",
     "output_type": "stream",
     "text": [
      "C:\\Emprendimiento\\Pry_Datos\n"
     ]
    }
   ],
   "source": [
    "# Cambia el directorio de trabajo a 'C:/path/to/your/directory'\n",
    "os.chdir('C:/Emprendimiento/Pry_Datos/')\n",
    "\n",
    "# Imprime la ruta del directorio de trabajo actual\n",
    "print(os.getcwd())"
   ]
  },
  {
   "cell_type": "code",
   "execution_count": null,
   "metadata": {},
   "outputs": [],
   "source": [
    "# Encapsula la lógica de lectura del archivo de configuración y la conexión a BD dentro de la función conectar_base_datos. \n",
    "# Toma el nombre del archivo de configuración como argumento y devuelve la conexión y el cursor, para ser usados en otras partes de código.\n",
    "\n",
    "\n",
    "import configparser\n",
    "import mysql.connector\n",
    "\n",
    "def conectar_base_datos(config_file):\n",
    "    # Leer las credenciales del archivo de configuración\n",
    "    config = configparser.ConfigParser()\n",
    "    config.read(config_file)\n",
    "\n",
    "    user = config['database']['user']\n",
    "    password = config['database']['password']\n",
    "    host = config['database']['host']\n",
    "    database = config['database']['database']\n",
    "\n",
    "    # Conectar a la base de datos\n",
    "    conexion = mysql.connector.connect(\n",
    "        host=host,\n",
    "        database=database,\n",
    "        user=user,\n",
    "        password=password\n",
    "    )\n",
    "\n",
    "    cursor = conexion.cursor()\n",
    "\n",
    "    return conexion, cursor\n",
    "\n",
    "# Uso de la función\n",
    "conexion, cursor = conectar_base_datos('config.ini')\n",
    "\n",
    "# Ahora se puede usar 'conexion' y 'cursor' para interactuar con la base de datos."
   ]
  },
  {
   "cell_type": "markdown",
   "metadata": {},
   "source": []
  }
 ],
 "metadata": {
  "kernelspec": {
   "display_name": "Python 3",
   "language": "python",
   "name": "python3"
  },
  "language_info": {
   "codemirror_mode": {
    "name": "ipython",
    "version": 3
   },
   "file_extension": ".py",
   "mimetype": "text/x-python",
   "name": "python",
   "nbconvert_exporter": "python",
   "pygments_lexer": "ipython3",
   "version": "3.10.7"
  }
 },
 "nbformat": 4,
 "nbformat_minor": 2
}
