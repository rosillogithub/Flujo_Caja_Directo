{
 "cells": [
  {
   "cell_type": "code",
   "execution_count": null,
   "metadata": {},
   "outputs": [],
   "source": [
    "# =====================================================================================================================\n",
    "# Inserta registro de saldo inicial en la tabla tbl_transacciones\n",
    "# ====================================================================================================================="
   ]
  },
  {
   "cell_type": "code",
   "execution_count": null,
   "metadata": {},
   "outputs": [],
   "source": [
    "# =====================================================================================================================\n",
    "# Inserta registro de saldo final en la tabla tbl_transacciones\n",
    "# ====================================================================================================================="
   ]
  },
  {
   "cell_type": "code",
   "execution_count": null,
   "metadata": {},
   "outputs": [],
   "source": [
    "# =====================================================================================================================\n",
    "# Implementar código Python para reemplazar el siguiente procedimiento almacenado en MySQL \"AcumulaFlujo\"\n",
    "# en FCD_F02d_Prd_Acumula_mes.ipynb\n",
    "# =====================================================================================================================\n",
    "# Llama procedimiento \"AcumulaFlujo\"\n",
    "# cursor.callproc(\"AcumulaFlujo\", [mes, anio])  # revisar contra el flujo en excel\n",
    "# Este procemiento almacenado acumula los registros de la tabla tbl_transacciones en la tabla tbl_flujo_reporte para el mes y año especificados\n",
    "# ====================================================================================================================="
   ]
  },
  {
   "cell_type": "code",
   "execution_count": 1,
   "metadata": {},
   "outputs": [],
   "source": [
    "# =====================================================================================================================\n",
    "# Redefinir la tabla tbl_reporte para que incluya columnas que eviten Joins y/o merges  ?\n",
    "# ====================================================================================================================="
   ]
  },
  {
   "cell_type": "code",
   "execution_count": null,
   "metadata": {},
   "outputs": [],
   "source": []
  },
  {
   "cell_type": "code",
   "execution_count": null,
   "metadata": {},
   "outputs": [],
   "source": []
  },
  {
   "cell_type": "markdown",
   "metadata": {},
   "source": [
    "========================================================================================"
   ]
  },
  {
   "cell_type": "markdown",
   "metadata": {},
   "source": [
    "Consulta para mostrar los procedimientos almacenados (stored procedures) en MySQL:\n",
    "\n",
    "SHOW PROCEDURE STATUS;\n",
    "\n",
    "========================================================================================"
   ]
  },
  {
   "cell_type": "markdown",
   "metadata": {},
   "source": [
    "Consulta que muestra el código fuente completo del procedimiento almacenado (lógica y parámetros):\n",
    "\n",
    "SHOW CREATE PROCEDURE nombre_del_procedimiento;\n",
    "\n",
    "========================================================================================"
   ]
  },
  {
   "cell_type": "markdown",
   "metadata": {},
   "source": [
    "Borrar:\n",
    "\n",
    "DROP PROCEDURE IF EXISTS nombre_del_procedimiento;\n",
    "\n",
    "========================================================================================"
   ]
  }
 ],
 "metadata": {
  "kernelspec": {
   "display_name": "Python 3",
   "language": "python",
   "name": "python3"
  },
  "language_info": {
   "codemirror_mode": {
    "name": "ipython",
    "version": 3
   },
   "file_extension": ".py",
   "mimetype": "text/x-python",
   "name": "python",
   "nbconvert_exporter": "python",
   "pygments_lexer": "ipython3",
   "version": "3.10.7"
  }
 },
 "nbformat": 4,
 "nbformat_minor": 2
}
