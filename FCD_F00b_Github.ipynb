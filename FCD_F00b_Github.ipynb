{
 "cells": [
  {
   "cell_type": "markdown",
   "metadata": {},
   "source": [
    "# Primera vez\n",
    "* git init\n",
    "* git add .\n",
    "* git commit -m \"Initial commit\"\n",
    "* git remote remove origin (opcional)\n",
    "* git remote add origin https://github.com/rosillogithub/Flujo_Caja_Directo.git\n",
    "* git push -u origin main\n",
    "\n",
    "* git pull origin main --allow-unrelated-histories \n",
    "* git pull --rebase origin main (cuando la situación lo requiere)\n",
    "\n",
    "\n",
    "git remote -v se usa para ver a qué URL apunta tu repositorio Git actualmente. Este comando muestra todas las conexiones remotas que tienes configuradas y las URL a las que apuntan.\n",
    "* origin  https://github.com/rosillogithub/Flujo_Caja_Directo.git (fetch)\n",
    "* origin  https://github.com/rosillogithub/Flujo_Caja_Directo.git (push)\n",
    "\n",
    "fetch: Este comando se utiliza para obtener los últimos cambios desde un repositorio remoto, pero sin fusionarlos con tu rama local. Es decir, git fetch te permite ver los cambios recientes en el repositorio remoto, pero no afecta tu trabajo local. Después de hacer un fetch, puedes decidir si quieres fusionar esos cambios en tu rama local con git merge.\n",
    "\n",
    "push: Este comando se utiliza para enviar tus cambios locales a un repositorio remoto. Después de hacer cambios en tu repositorio local y hacer commit de esos cambios, puedes usar git push para subir esos cambios al repositorio remoto, para que otras personas puedan verlos y obtenerlos.\n",
    "\n",
    "==========================================================================================================================================================\n",
    "\n",
    "git push se utiliza para subir (push) tus cambios locales a un repositorio remoto. Después de hacer cambios en tu repositorio local y hacer commit de esos cambios, puedes usar git push para subir esos cambios al repositorio remoto, para que otras personas puedan verlos y obtenerlos.\n",
    "\n",
    "git push -f origin main\n",
    "* Se usa para subir los cambios locales al repositorio remoto sin descargar los cambios del repositorio remoto, puedes usar git push -f o git push --force. \n",
    "* Este comando forzará a Git a subir los cambios locales al repositorio remoto, incluso si esto sobrescribe los cambios en el repositorio remoto.\n",
    "\n",
    "==========================================================================================================================================================\n",
    "\n",
    "git pull se utiliza para obtener (pull) los cambios más recientes desde un repositorio remoto a tu repositorio local. Si otras personas han realizado cambios en el repositorio remoto y los han subido (push), puedes usar git pull para obtener esos cambios y mantener tu repositorio local actualizado.\n",
    "\n",
    "Crear el archivo .gitignore\n",
    "* echo \"\" > .gitignore\n",
    "\n",
    "# GitHub\n",
    "Ahora que has hecho push de tu repositorio local a GitHub, puedes hacer lo siguiente en GitHub:\n",
    "\n",
    "1. Verifica tus cambios: Ve a la URL de tu repositorio (https://github.com/rosillogithub/Flujo_Caja_Directo.git) y deberías ver todos los archivos y commits que has hecho push desde tu repositorio local.\n",
    "\n",
    "2. Continúa trabajando en tu proyecto: Puedes seguir haciendo cambios en tu repositorio local y luego hacer push de esos cambios a GitHub con git push.\n",
    "\n",
    "3. Comparte tu proyecto: Puedes compartir la URL de tu repositorio con otras personas para que puedan ver, clonar o bifurcar tu proyecto.\n",
    "\n",
    "4. Colabora con otros: Si estás trabajando con otros en este proyecto, pueden clonar el repositorio a sus propias máquinas y luego hacer push de sus cambios a GitHub.\n",
    "\n",
    "5. Aprovecha las características de GitHub: GitHub tiene muchas características útiles, como la gestión de problemas, las solicitudes de extracción, las páginas de GitHub, y más. Puedes explorar estas características para ver cómo pueden ayudarte en tu proyecto.\n",
    "\n",
    "Recuerda que cada vez que hagas un cambio en tu repositorio local que quieras subir a GitHub, debes hacer un commit de ese cambio con git commit y luego hacer push del commit a GitHub con git push.\n"
   ]
  },
  {
   "cell_type": "markdown",
   "metadata": {},
   "source": []
  },
  {
   "cell_type": "markdown",
   "metadata": {},
   "source": [
    "# Siguientes sincronizaciones con GitHub\n",
    "* git init\n",
    "* git add .\n",
    "* git commit -m \"descripción\"\n",
    "* git remote -v (opcional): Muestra todas las conexiones remotas que tienes configuradas y las URL a las que apuntan.\n",
    "* git push -u origin main: Después cambios en el repositorio local, hacer commit de los cambios, \"push\" sube los cambios al repositorio remoto.\n",
    "* git push -f origin main (opcional): Sube los cambios locales al repositorio remoto sin descargar los cambios del repositorio remoto (git push -f o git push --force). Este comando forzará a Git a subir los cambios locales al repositorio remoto, incluso si esto sobrescribe los cambios en el repositorio remoto.\n",
    "\n",
    "==========================================================================================================================================================\n",
    "\n",
    "git pull se utiliza para obtener (pull) los cambios más recientes desde un repositorio remoto a tu repositorio local. Si otras personas han realizado cambios en el repositorio remoto y los han subido (push), puedes usar git pull para obtener esos cambios y mantener tu repositorio local actualizado."
   ]
  },
  {
   "cell_type": "markdown",
   "metadata": {},
   "source": []
  },
  {
   "cell_type": "markdown",
   "metadata": {},
   "source": []
  },
  {
   "cell_type": "code",
   "execution_count": null,
   "metadata": {},
   "outputs": [],
   "source": []
  }
 ],
 "metadata": {
  "kernelspec": {
   "display_name": "Python 3",
   "language": "python",
   "name": "python3"
  },
  "language_info": {
   "codemirror_mode": {
    "name": "ipython",
    "version": 3
   },
   "file_extension": ".py",
   "mimetype": "text/x-python",
   "name": "python",
   "nbconvert_exporter": "python",
   "pygments_lexer": "ipython3",
   "version": "3.10.7"
  }
 },
 "nbformat": 4,
 "nbformat_minor": 2
}
