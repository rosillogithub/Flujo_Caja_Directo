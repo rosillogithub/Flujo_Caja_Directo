{
 "cells": [
  {
   "cell_type": "markdown",
   "metadata": {},
   "source": [
    "DESCRIPCION\n",
    "\n",
    "Actualizar la tabla de saldos mensuales \n",
    "\n",
    "========================================================================================"
   ]
  },
  {
   "cell_type": "code",
   "execution_count": 1,
   "metadata": {},
   "outputs": [],
   "source": [
    "import mysql.connector\n",
    "import configparser\n",
    "import sys"
   ]
  },
  {
   "cell_type": "code",
   "execution_count": 2,
   "metadata": {},
   "outputs": [
    {
     "name": "stdout",
     "output_type": "stream",
     "text": [
      "Proceso completado exitosamente.\n"
     ]
    }
   ],
   "source": [
    "def actualizar_saldo_mes(p_mes, p_anio):\n",
    "    try:\n",
    "        # Leer las credenciales del archivo de configuración\n",
    "        config = configparser.ConfigParser()\n",
    "        config.read('config.ini')\n",
    "\n",
    "        user = config['database']['user']\n",
    "        password = config['database']['password']\n",
    "        host = config['database']['host']\n",
    "        database = config['database']['database']\n",
    "\n",
    "        # Abrir la base de datos: establecer la conexión\n",
    "        conexion = mysql.connector.connect(user=user, password=password, host=host, database=database)\n",
    "\n",
    "        # crear un cursor\n",
    "        cursor = conexion.cursor()\n",
    "\n",
    "        # =====================================================================================================================\n",
    "\n",
    "        # Obtener el mes y año del periodo anterior\n",
    "        if p_mes == 1:\n",
    "            v_mes_anterior = 12\n",
    "            v_anio_anterior = p_anio - 1\n",
    "        else:\n",
    "            v_mes_anterior = p_mes - 1\n",
    "            v_anio_anterior = p_anio\n",
    "\n",
    "        # Verificar si existe un registro para el mes anterior\n",
    "        cursor.execute(\"SELECT COUNT(*) FROM tbl_saldo_mes WHERE mes = %s AND anio = %s\", (v_mes_anterior, v_anio_anterior))\n",
    "        v_existencia_mes_anterior = cursor.fetchone()[0]\n",
    "\n",
    "        if v_existencia_mes_anterior == 0:\n",
    "            print(\"No hay registro de saldos para el mes anterior. Por favor, verifique los parámetros o corrija la situación\")\n",
    "            sys.exit()\n",
    "\n",
    "        # 1. Obtener la fecha del último día del mes\n",
    "        cursor.execute(\"SELECT LAST_DAY('{}-{}-01')\".format(p_anio, p_mes))\n",
    "        v_fecha = cursor.fetchone()[0]\n",
    "\n",
    "        # 2. Obtener el saldo inicial del periodo anterior\n",
    "        cursor.execute(\"SELECT saldo_final FROM tbl_saldo_mes WHERE mes = %s AND anio = %s\", (v_mes_anterior, v_anio_anterior))\n",
    "        v_saldo_inicial = cursor.fetchone()[0]\n",
    "\n",
    "        # 3. Obtener la sumatoria del campo NETO de tbl_transacciones\n",
    "        cursor.execute(\"SELECT IFNULL(SUM(NETO), 0) FROM tbl_transacciones WHERE MES = %s AND ANIO = %s\", (p_mes, p_anio))\n",
    "        v_neto_mes = cursor.fetchone()[0]\n",
    "\n",
    "        # 4. Calcular el saldo final\n",
    "        v_saldo_final = v_saldo_inicial + v_neto_mes\n",
    "\n",
    "        # 5. Verificar si ya existe un registro para este mes y año\n",
    "        cursor.execute(\"SELECT COUNT(*) FROM tbl_saldo_mes WHERE mes = %s AND anio = %s\", (p_mes, p_anio))\n",
    "        v_existencia = cursor.fetchone()[0]\n",
    "\n",
    "        if v_existencia > 0:\n",
    "            # Actualizar el registro existente\n",
    "            cursor.execute(\"UPDATE tbl_saldo_mes SET fecha = %s, saldo_inicial = %s, neto_mes = %s, saldo_final = %s WHERE mes = %s AND anio = %s\", (v_fecha, v_saldo_inicial, v_neto_mes, v_saldo_final, p_mes, p_anio))\n",
    "        else:\n",
    "            # Insertar un nuevo registro\n",
    "            cursor.execute(\"INSERT INTO tbl_saldo_mes (fecha, mes, anio, saldo_inicial, neto_mes, saldo_final) VALUES (%s, %s, %s, %s, %s, %s)\", (v_fecha, p_mes, p_anio, v_saldo_inicial, v_neto_mes, v_saldo_final))\n",
    "\n",
    "        # Confirmar los cambios\n",
    "        conexion.commit()\n",
    "        print(\"Proceso completado exitosamente.\")\n",
    "\n",
    "    except mysql.connector.Error as error:\n",
    "        print(\"Error al conectar con la base de datos:\", error)\n",
    "\n",
    "    finally:\n",
    "        # Cerrar la conexión\n",
    "        if 'conexion' in locals() and conexion.is_connected():\n",
    "            cursor.close()\n",
    "            conexion.close()\n",
    "\n",
    "# Ejemplo de uso\n",
    "actualizar_saldo_mes(1, 2023)  # Especifica el mes y el año"
   ]
  },
  {
   "cell_type": "code",
   "execution_count": null,
   "metadata": {},
   "outputs": [],
   "source": []
  }
 ],
 "metadata": {
  "kernelspec": {
   "display_name": "Python 3",
   "language": "python",
   "name": "python3"
  },
  "language_info": {
   "codemirror_mode": {
    "name": "ipython",
    "version": 3
   },
   "file_extension": ".py",
   "mimetype": "text/x-python",
   "name": "python",
   "nbconvert_exporter": "python",
   "pygments_lexer": "ipython3",
   "version": "3.10.7"
  }
 },
 "nbformat": 4,
 "nbformat_minor": 2
}
