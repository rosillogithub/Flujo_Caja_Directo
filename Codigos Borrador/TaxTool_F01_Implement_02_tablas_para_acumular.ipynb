{
 "cells": [
  {
   "cell_type": "code",
   "execution_count": 1,
   "metadata": {},
   "outputs": [],
   "source": [
    "import os\n",
    "import pandas as pd\n",
    "import mysql.connector\n",
    "import configparser"
   ]
  },
  {
   "cell_type": "code",
   "execution_count": 2,
   "metadata": {},
   "outputs": [],
   "source": [
    "# Leer las credenciales del archivo de configuración\n",
    "config = configparser.ConfigParser()\n",
    "config.read('config.ini')\n",
    "\n",
    "user = config['database']['user']\n",
    "password = config['database']['password']\n",
    "host = config['database']['host']\n",
    "database = config['database']['database']"
   ]
  },
  {
   "cell_type": "code",
   "execution_count": 3,
   "metadata": {},
   "outputs": [],
   "source": [
    "# Abrir la base de datos: establecer la conexión\n",
    "cnx = mysql.connector.connect(user=user, password=password, host=host, database=database)\n",
    "\n",
    "# crear un cursor\n",
    "cursor = cnx.cursor()\n",
    "\n",
    "# seleccionar la base de datos\n",
    "cursor.execute(\"USE flujo_caja_directo \")\n",
    "\n",
    "# =====================================================================================================================\n",
    "\n",
    "# crear tabla de agregación en blanco (para acumular las transacciones de cada item por mes)\n",
    "cursor.execute(\"\"\"\n",
    "    CREATE TABLE tbl_flujo_reporte (\n",
    "    id_item INT(11) NOT NULL PRIMARY KEY,\n",
    "    FOREIGN KEY (id_item) REFERENCES tbl_fcdir_items (id_item)\n",
    "    );\n",
    "\"\"\")\n",
    "\n",
    "# Esto creará una nueva tabla con una columna id_item del mismo tipo que la columna id_item de la tabla tbl_fcdir_items, y \n",
    "# establecerá id_item como clave primaria.\n",
    "\n",
    "# copiar los registro de la tabla original a la nueva tabla\n",
    "cursor.execute(\"\"\"\n",
    "    INSERT INTO tbl_flujo_reporte (id_item)\n",
    "    SELECT id_item FROM tbl_fcdir_items\n",
    "\"\"\")\n",
    "\n",
    "# =====================================================================================================================\n",
    "\n",
    "# crear tabla de presupuesto en blanco\n",
    "cursor.execute(\"\"\"\n",
    "    CREATE TABLE tbl_flujo_estimado (\n",
    "    id_item INT(11) NOT NULL PRIMARY KEY,\n",
    "    FOREIGN KEY (id_item) REFERENCES tbl_fcdir_items (id_item)\n",
    "    );\n",
    "\"\"\")\n",
    "\n",
    "# copiar los registro de la tabla original a la nueva tabla\n",
    "cursor.execute(\"\"\"\n",
    "    INSERT INTO tbl_flujo_estimado (id_item)\n",
    "    SELECT id_item FROM tbl_fcdir_items\n",
    "\"\"\")\n",
    "\n",
    "# =====================================================================================================================\n",
    "\n",
    "# Cerrar cursor\n",
    "cursor.close()\n",
    "\n",
    "# cerrar la conexión\n",
    "cnx.commit()\n",
    "cnx.close()"
   ]
  },
  {
   "cell_type": "code",
   "execution_count": null,
   "metadata": {},
   "outputs": [],
   "source": []
  }
 ],
 "metadata": {
  "kernelspec": {
   "display_name": "Python 3",
   "language": "python",
   "name": "python3"
  },
  "language_info": {
   "codemirror_mode": {
    "name": "ipython",
    "version": 3
   },
   "file_extension": ".py",
   "mimetype": "text/x-python",
   "name": "python",
   "nbconvert_exporter": "python",
   "pygments_lexer": "ipython3",
   "version": "3.10.7"
  }
 },
 "nbformat": 4,
 "nbformat_minor": 2
}
