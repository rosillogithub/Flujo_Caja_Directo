{
 "cells": [
  {
   "cell_type": "code",
   "execution_count": 4,
   "metadata": {},
   "outputs": [],
   "source": [
    "import mysql.connector\n",
    "import configparser"
   ]
  },
  {
   "cell_type": "code",
   "execution_count": 5,
   "metadata": {},
   "outputs": [],
   "source": [
    "# Leer las credenciales del archivo de configuración\n",
    "config = configparser.ConfigParser()\n",
    "config.read('config.ini')\n",
    "\n",
    "user = config['database']['user']\n",
    "password = config['database']['password']\n",
    "host = config['database']['host']\n",
    "database = config['database']['database']"
   ]
  },
  {
   "cell_type": "code",
   "execution_count": 6,
   "metadata": {},
   "outputs": [],
   "source": [
    "# Abrir la base de datos: establecer la conexión\n",
    "cnx = mysql.connector.connect(user=user, password=password, host=host, database=database)\n",
    "\n",
    "# crear un cursor\n",
    "cursor = cnx.cursor()\n",
    "\n",
    "# seleccionar la base de datos\n",
    "cursor.execute(\"USE flujo_caja_directo \")\n",
    "\n",
    "# =====================================================================================================================\n",
    "\n",
    "# crear tabla de agregación \"tbl_saldo_mes\" \n",
    "cursor.execute(\"\"\"\n",
    "    CREATE TABLE tbl_saldo_mes (\n",
    "    id_saldo_mes INT(11) NOT NULL AUTO_INCREMENT,\n",
    "    fecha DATE,\n",
    "    mes INT,\n",
    "    anio INT,\n",
    "    saldo_inicial DECIMAL(18,2),\n",
    "    neto_mes DECIMAL(18,2),\n",
    "    saldo_final DECIMAL(18,2),\n",
    "    PRIMARY KEY (id_saldo_mes)\n",
    "    );\n",
    "\"\"\")\n",
    "\n",
    "# =====================================================================================================================\n",
    "\n",
    "# En MySQL, el primer día de la semana es el domingo, el último es el sábado.\n",
    "# En MySQL, cuando el año comienza en día diferencte a domingo, la primera semana del año es la semana 0\n",
    "# Por lo tanto, la semana 1 del año es la primera semana que tiene al menos 4 días en el año    \n",
    "# Para obtener el número de semana en MySQL se utiliza la función WEEK(fecha, 1)\n",
    "\n",
    "# crear tabla de agregación \"tbl_saldo_semana\" \n",
    "cursor.execute(\"\"\"\n",
    "    CREATE TABLE tbl_saldo_semana (\n",
    "    id_saldo_semana INT(11) NOT NULL AUTO_INCREMENT,\n",
    "    fecha DATE,\n",
    "    anio INT,\n",
    "    mes INT,\n",
    "    semana INT,\n",
    "    saldo_inicial DECIMAL(18,2),\n",
    "    neto_mes DECIMAL(18,2),\n",
    "    saldo_final DECIMAL(18,2),\n",
    "    PRIMARY KEY (id_saldo_semana)\n",
    "    );\n",
    "\"\"\")\n",
    "\n",
    "# No se requieren llaves foraneas porque no se harán registros manuales en esta tabla\n",
    "# Es decir, esta tabla únicamente se llenará con los datos de la tabla de transacciones\n",
    "# Si se requiere un registro manual, se deberá hacer en el informe de flujo de caja que se genere en excel\n",
    "# =====================================================================================================================\n",
    "\n",
    "# Bajo el diseño de tablas y modelo para resumir y actualizar → Ya no se necesitan los triggres!!!!\n",
    "\n",
    "# Cerrar cursor\n",
    "cursor.close()\n",
    "\n",
    "# cerrar la conexión\n",
    "cnx.commit()\n",
    "cnx.close()"
   ]
  },
  {
   "cell_type": "code",
   "execution_count": null,
   "metadata": {},
   "outputs": [],
   "source": []
  }
 ],
 "metadata": {
  "kernelspec": {
   "display_name": "Python 3",
   "language": "python",
   "name": "python3"
  },
  "language_info": {
   "codemirror_mode": {
    "name": "ipython",
    "version": 3
   },
   "file_extension": ".py",
   "mimetype": "text/x-python",
   "name": "python",
   "nbconvert_exporter": "python",
   "pygments_lexer": "ipython3",
   "version": "3.10.7"
  }
 },
 "nbformat": 4,
 "nbformat_minor": 2
}
