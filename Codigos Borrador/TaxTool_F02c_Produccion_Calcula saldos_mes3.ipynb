{
 "cells": [
  {
   "cell_type": "markdown",
   "metadata": {},
   "source": [
    "DESCRIPCION\n",
    "\n",
    "Este procedimiento almacenado: \n",
    "1. eliminará cualquier registro existente en la tabla \"tbl_flujo_reporte\" para el mes y año especificados y luego \n",
    "2. insertará nuevos registros basados en los acumulados de NETO por \"ITEM_COD\" para ese mes y año.\n",
    "\n",
    "========================================================================================"
   ]
  },
  {
   "cell_type": "code",
   "execution_count": 1,
   "metadata": {},
   "outputs": [],
   "source": [
    "import mysql.connector\n",
    "import configparser"
   ]
  },
  {
   "cell_type": "code",
   "execution_count": 2,
   "metadata": {},
   "outputs": [
    {
     "name": "stdout",
     "output_type": "stream",
     "text": [
      "No hay registro de saldos para el mes anterior. Por favor, verifique los parámetros o corrija la situación\n"
     ]
    },
    {
     "ename": "NameError",
     "evalue": "name 'sys' is not defined",
     "output_type": "error",
     "traceback": [
      "\u001b[1;31m---------------------------------------------------------------------------\u001b[0m",
      "\u001b[1;31mNameError\u001b[0m                                 Traceback (most recent call last)",
      "Cell \u001b[1;32mIn[2], line 87\u001b[0m\n\u001b[0;32m     84\u001b[0m             conexion\u001b[38;5;241m.\u001b[39mclose()\n\u001b[0;32m     86\u001b[0m \u001b[38;5;66;03m# Ejemplo de uso\u001b[39;00m\n\u001b[1;32m---> 87\u001b[0m \u001b[43mactualizar_saldo_mes\u001b[49m\u001b[43m(\u001b[49m\u001b[38;5;241;43m6\u001b[39;49m\u001b[43m,\u001b[49m\u001b[43m \u001b[49m\u001b[38;5;241;43m2024\u001b[39;49m\u001b[43m)\u001b[49m  \u001b[38;5;66;03m# Especifica el mes y el año\u001b[39;00m\n",
      "Cell \u001b[1;32mIn[2], line 34\u001b[0m, in \u001b[0;36mactualizar_saldo_mes\u001b[1;34m(p_mes, p_anio)\u001b[0m\n\u001b[0;32m     32\u001b[0m \u001b[38;5;28;01mif\u001b[39;00m v_existencia_mes_anterior \u001b[38;5;241m==\u001b[39m \u001b[38;5;241m0\u001b[39m:\n\u001b[0;32m     33\u001b[0m     \u001b[38;5;28mprint\u001b[39m(\u001b[38;5;124m\"\u001b[39m\u001b[38;5;124mNo hay registro de saldos para el mes anterior. Por favor, verifique los parámetros o corrija la situación\u001b[39m\u001b[38;5;124m\"\u001b[39m)\n\u001b[1;32m---> 34\u001b[0m     \u001b[43msys\u001b[49m\u001b[38;5;241m.\u001b[39mexit()\n\u001b[0;32m     36\u001b[0m \u001b[38;5;66;03m# Obtener la fecha del último día del mes\u001b[39;00m\n\u001b[0;32m     37\u001b[0m cursor\u001b[38;5;241m.\u001b[39mexecute(\u001b[38;5;124m\"\u001b[39m\u001b[38;5;124mSELECT LAST_DAY(\u001b[39m\u001b[38;5;124m'\u001b[39m\u001b[38;5;132;01m{}\u001b[39;00m\u001b[38;5;124m-\u001b[39m\u001b[38;5;132;01m{}\u001b[39;00m\u001b[38;5;124m-01\u001b[39m\u001b[38;5;124m'\u001b[39m\u001b[38;5;124m)\u001b[39m\u001b[38;5;124m\"\u001b[39m\u001b[38;5;241m.\u001b[39mformat(p_anio, p_mes))\n",
      "\u001b[1;31mNameError\u001b[0m: name 'sys' is not defined"
     ]
    }
   ],
   "source": [
    "def actualizar_saldo_mes(p_mes, p_anio):\n",
    "    try:\n",
    "        # Leer las credenciales del archivo de configuración\n",
    "        config = configparser.ConfigParser()\n",
    "        config.read('config.ini')\n",
    "\n",
    "        user = config['database']['user']\n",
    "        password = config['database']['password']\n",
    "        host = config['database']['host']\n",
    "        database = config['database']['database']\n",
    "\n",
    "        # Abrir la base de datos: establecer la conexión\n",
    "        conexion = mysql.connector.connect(user=user, password=password, host=host, database=database)\n",
    "\n",
    "        # crear un cursor\n",
    "        cursor = conexion.cursor()\n",
    "\n",
    "        # =====================================================================================================================\n",
    "\n",
    "        # Obtener el mes y año del periodo anterior\n",
    "        if p_mes == 1:\n",
    "            v_mes_anterior = 12\n",
    "            v_anio_anterior = p_anio - 1\n",
    "        else:\n",
    "            v_mes_anterior = p_mes - 1\n",
    "            v_anio_anterior = p_anio\n",
    "\n",
    "        # Verificar si existe un registro para el mes anterior\n",
    "        cursor.execute(\"SELECT COUNT(*) FROM tbl_saldo_mes WHERE mes = %s AND anio = %s\", (v_mes_anterior, v_anio_anterior))\n",
    "        v_existencia_mes_anterior = cursor.fetchone()[0]\n",
    "\n",
    "        if v_existencia_mes_anterior == 0:\n",
    "            print(\"No hay registro de saldos para el mes anterior. Por favor, verifique los parámetros o corrija la situación\")\n",
    "            sys.exit()\n",
    "\n",
    "        # Obtener la fecha del último día del mes\n",
    "        cursor.execute(\"SELECT LAST_DAY('{}-{}-01')\".format(p_anio, p_mes))\n",
    "        v_fecha = cursor.fetchone()[0]\n",
    "\n",
    "        # Verificar si ya existe un registro para este mes y año\n",
    "        cursor.execute(\"SELECT COUNT(*) FROM tbl_saldo_mes WHERE mes = %s AND anio = %s\", (p_mes, p_anio))\n",
    "        v_existencia = cursor.fetchone()[0]\n",
    "\n",
    "        if v_existencia > 0:\n",
    "            # Obtener el saldo inicial del periodo anterior\n",
    "            cursor.execute(\"SELECT saldo_final FROM tbl_saldo_mes WHERE mes = %s AND anio = %s\", (v_mes_anterior, v_anio_anterior))\n",
    "            v_saldo_inicial = cursor.fetchone()[0]\n",
    "\n",
    "            # Obtener la sumatoria del campo NETO de tbl_transacciones\n",
    "            cursor.execute(\"SELECT IFNULL(SUM(NETO), 0) FROM tbl_transacciones WHERE MES = %s AND ANIO = %s\", (p_mes, p_anio))\n",
    "            v_neto_mes = cursor.fetchone()[0]\n",
    "\n",
    "            # Calcular el saldo final\n",
    "            v_saldo_final = v_saldo_inicial + v_neto_mes\n",
    "\n",
    "            # Actualizar el registro existente\n",
    "            cursor.execute(\"UPDATE tbl_saldo_mes SET fecha = %s, saldo_inicial = %s, neto_mes = %s, saldo_final = %s WHERE mes = %s AND anio = %s\", (v_fecha, v_saldo_inicial, v_neto_mes, v_saldo_final, p_mes, p_anio))\n",
    "        else:\n",
    "            # Obtener el saldo inicial del periodo anterior\n",
    "            cursor.execute(\"SELECT saldo_final FROM tbl_saldo_mes WHERE mes = %s AND anio = %s\", (v_mes_anterior, v_anio_anterior))\n",
    "            v_saldo_inicial = cursor.fetchone()[0]\n",
    "\n",
    "            # Obtener la sumatoria del campo NETO de tbl_transacciones\n",
    "            cursor.execute(\"SELECT IFNULL(SUM(NETO), 0) FROM tbl_transacciones WHERE MES = %s AND ANIO = %s\", (p_mes, p_anio))\n",
    "            v_neto_mes = cursor.fetchone()[0]\n",
    "\n",
    "            # Calcular el saldo final\n",
    "            v_saldo_final = v_saldo_inicial + v_neto_mes\n",
    "\n",
    "            # Insertar un nuevo registro\n",
    "            cursor.execute(\"INSERT INTO tbl_saldo_mes (fecha, mes, anio, saldo_inicial, neto_mes, saldo_final) VALUES (%s, %s, %s, %s, %s, %s)\", (v_fecha, p_mes, p_anio, v_saldo_inicial, v_neto_mes, v_saldo_final))\n",
    "\n",
    "        # Confirmar los cambios\n",
    "        conexion.commit()\n",
    "        print(\"Proceso completado exitosamente.\")\n",
    "\n",
    "    except mysql.connector.Error as error:\n",
    "        print(\"Error al conectar con la base de datos:\", error)\n",
    "\n",
    "    finally:\n",
    "        # Cerrar la conexión\n",
    "        if 'conexion' in locals() and conexion.is_connected():\n",
    "            cursor.close()\n",
    "            conexion.close()\n",
    "\n",
    "# Ejemplo de uso\n",
    "actualizar_saldo_mes(6, 2024)  # Especifica el mes y el año"
   ]
  },
  {
   "cell_type": "markdown",
   "metadata": {},
   "source": []
  },
  {
   "cell_type": "markdown",
   "metadata": {},
   "source": [
    "# Antes de ejecutar cualquier proceso validar que exista registro del periodo anterior\n",
    "# Si no existe registro del periodo anterior, no crear ni actualizar registros"
   ]
  },
  {
   "cell_type": "markdown",
   "metadata": {},
   "source": []
  },
  {
   "cell_type": "markdown",
   "metadata": {},
   "source": []
  },
  {
   "cell_type": "code",
   "execution_count": null,
   "metadata": {},
   "outputs": [],
   "source": []
  },
  {
   "cell_type": "markdown",
   "metadata": {},
   "source": [
    "La tabla \"tbl_flujo_reporte\" debe resumir en cada \"id_item\" el contenido del campo NETO de la tabla \"tbl_transacciones\" según \"ITEM_COD\", \"ANIO\" y \"MES\"\n",
    "\n",
    "Evaluar las siguientes opciones:\n",
    "1. ir creando una columna en tabla \"tbl_flujo_reporte\" para resumir la información de cada mes/año\n",
    "2. Modificar la estructura de la tabla \"tbl_flujo_reporte\" para que reciba un registro por cada acumulado de NETO por \"ITEM_COD\",   \"ANIO\" y \"MES\"\n",
    "\n",
    "========================================================================================\n",
    "\n",
    "1. **Crear una columna en la tabla \"tbl_flujo_reporte\" para resumir la información de cada mes/año**: \n",
    "* Esta opción implica agregar una nueva columna para cada mes/año en la tabla \"tbl_flujo_reporte\". Cada vez que se ingresen nuevos datos en la tabla \"tbl_transacciones\", tendrás que actualizar las columnas correspondientes en \"tbl_flujo_reporte\". \n",
    "* Esto podría ser eficiente si necesitas acceder rápidamente a los totales mensuales/año sin tener que realizar cálculos complejos en tiempo de consulta. \n",
    "* Sin embargo, podría volverse complicado si hay muchos meses/años diferentes o si la cantidad de datos es grande, ya que tendrías muchas columnas en la tabla \"tbl_flujo_reporte\".\n",
    "\n",
    "2. **Modificar la estructura de la tabla \"tbl_flujo_reporte\" para que reciba un registro por cada acumulado de NETO por \"ITEM_COD\", \"ANIO\" y \"MES\"**: \n",
    "* En esta opción, en lugar de tener una columna para cada mes/año en \"tbl_flujo_reporte\", tendrías una fila por cada combinación de \"ITEM_COD\", \"ANIO\" y \"MES\", con una columna que almacena el total NETO correspondiente. \n",
    "* Esto sería más escalable y flexible, ya que no tendrías que modificar la estructura de la tabla cada vez que agregues un nuevo mes/año. \n",
    "* Además, permitiría consultas más flexibles y eficientes sobre los datos agregados.\n",
    "\n",
    "En general, la opción 2 parece ser la más flexible y escalable, ya que te permite almacenar los totales NETO de manera estructurada y realizar consultas eficientes sobre ellos. Sin embargo, la elección final dependerá de tus necesidades específicas y de la complejidad de tu aplicación.\n",
    "\n",
    "========================================================================================"
   ]
  },
  {
   "cell_type": "markdown",
   "metadata": {},
   "source": [
    "Uno de los propósitos de la tabla \"tbl_flujo_reporte\" es que sirva como puente para tomar datos que alimentarán un reporte\n",
    "\n",
    "* Si el propósito principal de la tabla \"tbl_flujo_reporte\" es alimentar un reporte, entonces la opción 2 parece ser la más adecuada. \n",
    "* Al tener una fila por cada combinación de \"ITEM_COD\", \"ANIO\" y \"MES\" con el total NETO correspondiente, puedes generar fácilmente los datos necesarios para el reporte utilizando consultas SQL simples.\n",
    "* Además, al utilizar esta estructura, la tabla \"tbl_flujo_reporte\" actuará como un puente eficiente para obtener los datos agregados necesarios para el reporte, ya que los totales NETO estarán precalculados y disponibles en la tabla, lo que evitará la necesidad de realizar cálculos complejos en tiempo de consulta.\n",
    "\n",
    "Por lo tanto, la opción 2 te proporcionará una estructura eficiente y escalable para alimentar el reporte, lo que facilitará el proceso de generación del mismo y garantizará un rendimiento óptimo, especialmente si estás trabajando con grandes volúmenes de datos."
   ]
  },
  {
   "cell_type": "markdown",
   "metadata": {},
   "source": []
  },
  {
   "cell_type": "markdown",
   "metadata": {},
   "source": [
    "Consulta para mostrar los procedimientos almacenados (stored procedures) en MySQL:\n",
    "\n",
    "SHOW PROCEDURE STATUS;\n",
    "\n",
    "========================================================================================"
   ]
  },
  {
   "cell_type": "markdown",
   "metadata": {},
   "source": [
    "Consulta que muestra el código fuente completo del procedimiento almacenado (lógica y parámetros):\n",
    "\n",
    "SHOW CREATE PROCEDURE nombre_del_procedimiento;\n",
    "\n",
    "========================================================================================"
   ]
  },
  {
   "cell_type": "markdown",
   "metadata": {},
   "source": [
    "Borrar:\n",
    "\n",
    "DROP PROCEDURE IF EXISTS nombre_del_procedimiento;\n",
    "\n",
    "========================================================================================"
   ]
  }
 ],
 "metadata": {
  "kernelspec": {
   "display_name": "Python 3",
   "language": "python",
   "name": "python3"
  },
  "language_info": {
   "codemirror_mode": {
    "name": "ipython",
    "version": 3
   },
   "file_extension": ".py",
   "mimetype": "text/x-python",
   "name": "python",
   "nbconvert_exporter": "python",
   "pygments_lexer": "ipython3",
   "version": "3.10.7"
  }
 },
 "nbformat": 4,
 "nbformat_minor": 2
}
