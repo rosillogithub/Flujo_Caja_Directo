{
 "cells": [
  {
   "cell_type": "markdown",
   "metadata": {},
   "source": [
    "La tabla \"tbl_flujo_reporte\" debe resumir en cada \"id_item\" el contenido del campo NETO de la tabla \"tbl_transacciones\" según \"ITEM_COD\", \"ANIO\" y \"MES\"\n",
    "\n",
    "Evaluar las siguientes opciones:\n",
    "1. ir creando una columna en tabla \"tbl_flujo_reporte\" para resumir la información de cada mes/año\n",
    "2. Modificar la estructura de la tabla \"tbl_flujo_reporte\" para que reciba un registro por cada acumulado de NETO por \"ITEM_COD\",   \"ANIO\" y \"MES\"\n",
    "\n",
    "========================================================================================\n",
    "\n",
    "1. **Crear una columna en la tabla \"tbl_flujo_reporte\" para resumir la información de cada mes/año**: \n",
    "* Esta opción implica agregar una nueva columna para cada mes/año en la tabla \"tbl_flujo_reporte\". Cada vez que se ingresen nuevos datos en la tabla \"tbl_transacciones\", tendrás que actualizar las columnas correspondientes en \"tbl_flujo_reporte\". \n",
    "* Esto podría ser eficiente si necesitas acceder rápidamente a los totales mensuales/año sin tener que realizar cálculos complejos en tiempo de consulta. \n",
    "* Sin embargo, podría volverse complicado si hay muchos meses/años diferentes o si la cantidad de datos es grande, ya que tendrías muchas columnas en la tabla \"tbl_flujo_reporte\".\n",
    "\n",
    "2. **Modificar la estructura de la tabla \"tbl_flujo_reporte\" para que reciba un registro por cada acumulado de NETO por \"ITEM_COD\", \"ANIO\" y \"MES\"**: \n",
    "* En esta opción, en lugar de tener una columna para cada mes/año en \"tbl_flujo_reporte\", tendrías una fila por cada combinación de \"ITEM_COD\", \"ANIO\" y \"MES\", con una columna que almacena el total NETO correspondiente. \n",
    "* Esto sería más escalable y flexible, ya que no tendrías que modificar la estructura de la tabla cada vez que agregues un nuevo mes/año. \n",
    "* Además, permitiría consultas más flexibles y eficientes sobre los datos agregados.\n",
    "\n",
    "En general, la opción 2 parece ser la más flexible y escalable, ya que te permite almacenar los totales NETO de manera estructurada y realizar consultas eficientes sobre ellos. Sin embargo, la elección final dependerá de tus necesidades específicas y de la complejidad de tu aplicación.\n",
    "\n",
    "========================================================================================"
   ]
  },
  {
   "cell_type": "markdown",
   "metadata": {},
   "source": [
    "Uno de los propósitos de la tabla \"tbl_flujo_reporte\" es que sirva como puente para tomar datos que alimentarán un reporte\n",
    "\n",
    "* Si el propósito principal de la tabla \"tbl_flujo_reporte\" es alimentar un reporte, entonces la opción 2 parece ser la más adecuada. \n",
    "* Al tener una fila por cada combinación de \"ITEM_COD\", \"ANIO\" y \"MES\" con el total NETO correspondiente, puedes generar fácilmente los datos necesarios para el reporte utilizando consultas SQL simples.\n",
    "* Además, al utilizar esta estructura, la tabla \"tbl_flujo_reporte\" actuará como un puente eficiente para obtener los datos agregados necesarios para el reporte, ya que los totales NETO estarán precalculados y disponibles en la tabla, lo que evitará la necesidad de realizar cálculos complejos en tiempo de consulta.\n",
    "\n",
    "Por lo tanto, la opción 2 te proporcionará una estructura eficiente y escalable para alimentar el reporte, lo que facilitará el proceso de generación del mismo y garantizará un rendimiento óptimo, especialmente si estás trabajando con grandes volúmenes de datos.\n",
    "\n",
    "========================================================================================"
   ]
  },
  {
   "cell_type": "code",
   "execution_count": 4,
   "metadata": {},
   "outputs": [],
   "source": [
    "import pandas as pd\n",
    "import mysql.connector\n",
    "import configparser"
   ]
  },
  {
   "cell_type": "code",
   "execution_count": 5,
   "metadata": {},
   "outputs": [
    {
     "name": "stderr",
     "output_type": "stream",
     "text": [
      "C:\\Users\\gusta\\AppData\\Local\\Temp\\ipykernel_2480\\268230371.py:30: UserWarning: pandas only supports SQLAlchemy connectable (engine/connection) or database string URI or sqlite3 DBAPI2 connection. Other DBAPI2 objects are not tested. Please consider using SQLAlchemy.\n",
      "  saldos_mes = pd.read_sql(query, conexion)\n"
     ]
    },
    {
     "data": {
      "text/html": [
       "<div>\n",
       "<style scoped>\n",
       "    .dataframe tbody tr th:only-of-type {\n",
       "        vertical-align: middle;\n",
       "    }\n",
       "\n",
       "    .dataframe tbody tr th {\n",
       "        vertical-align: top;\n",
       "    }\n",
       "\n",
       "    .dataframe thead th {\n",
       "        text-align: right;\n",
       "    }\n",
       "</style>\n",
       "<table border=\"1\" class=\"dataframe\">\n",
       "  <thead>\n",
       "    <tr style=\"text-align: right;\">\n",
       "      <th></th>\n",
       "      <th>id_saldo_mes</th>\n",
       "      <th>fecha</th>\n",
       "      <th>mes</th>\n",
       "      <th>anio</th>\n",
       "      <th>saldo_inicial</th>\n",
       "      <th>neto_mes</th>\n",
       "      <th>saldo_final</th>\n",
       "      <th>periodo</th>\n",
       "    </tr>\n",
       "  </thead>\n",
       "  <tbody>\n",
       "    <tr>\n",
       "      <th>0</th>\n",
       "      <td>30</td>\n",
       "      <td>2023-01-31</td>\n",
       "      <td>1</td>\n",
       "      <td>2023</td>\n",
       "      <td>48779871.01</td>\n",
       "      <td>15151744.01</td>\n",
       "      <td>63931615.02</td>\n",
       "      <td>2023-01-01</td>\n",
       "    </tr>\n",
       "    <tr>\n",
       "      <th>1</th>\n",
       "      <td>31</td>\n",
       "      <td>2023-02-28</td>\n",
       "      <td>2</td>\n",
       "      <td>2023</td>\n",
       "      <td>63931615.02</td>\n",
       "      <td>17049613.28</td>\n",
       "      <td>80981228.30</td>\n",
       "      <td>2023-02-01</td>\n",
       "    </tr>\n",
       "  </tbody>\n",
       "</table>\n",
       "</div>"
      ],
      "text/plain": [
       "   id_saldo_mes       fecha  mes  anio  saldo_inicial     neto_mes  \\\n",
       "0            30  2023-01-31    1  2023    48779871.01  15151744.01   \n",
       "1            31  2023-02-28    2  2023    63931615.02  17049613.28   \n",
       "\n",
       "   saldo_final    periodo  \n",
       "0  63931615.02 2023-01-01  \n",
       "1  80981228.30 2023-02-01  "
      ]
     },
     "execution_count": 5,
     "metadata": {},
     "output_type": "execute_result"
    }
   ],
   "source": [
    "# ============================================================================================================\n",
    "# Crear un dataframe con los datos de la tabla tbl_saldo_mes según rango definido en parámetros de entrada\n",
    "# ============================================================================================================\n",
    "\n",
    "def saldo_mes(anio_inicio, mes_inicio, anio_fin, mes_fin):\n",
    "\n",
    "    # Leer las credenciales del archivo de configuración\n",
    "    config = configparser.ConfigParser()\n",
    "    config.read('config.ini')\n",
    "\n",
    "    user = config['database']['user']\n",
    "    password = config['database']['password']\n",
    "    host = config['database']['host']\n",
    "    database = config['database']['database']\n",
    "\n",
    "    # Abrir la base de datos: establecer la conexión\n",
    "    conexion = mysql.connector.connect(user=user, password=password, host=host, database=database)\n",
    "\n",
    "    # ============================================================================================================\n",
    "\n",
    "    # Consulta SQL para extraer datos de tbl_saldo_mes\n",
    "    query = f\"\"\"\n",
    "        SELECT *\n",
    "        FROM tbl_saldo_mes\n",
    "        WHERE (anio > {anio_inicio} OR (anio = {anio_inicio} AND mes >= {mes_inicio}))\n",
    "        AND (anio < {anio_fin} OR (anio = {anio_fin} AND mes <= {mes_fin}))\n",
    "    \"\"\"\n",
    "\n",
    "    # Ejecutar la consulta y cargar los datos en un DataFrame\n",
    "    saldos_mes = pd.read_sql(query, conexion)\n",
    "\n",
    "    # Cerrar la conexión a la base de datos\n",
    "    conexion.close()\n",
    "\n",
    "    return saldos_mes\n",
    "\n",
    "# ============================================================================================================\n",
    "\n",
    "# Crear un dataframe con los datos de la tabla tbl_saldo_mes según rango definido en parámetros de entrada\n",
    "\n",
    "# Ejemplo de uso:\n",
    "inf_saldos = saldo_mes(2023, 1, 2023, 2)\n",
    "# print(reporte_mes)\n",
    "\n",
    "# Crea la columna 'periodo' concatenando las columnas 'anio', 'mes'\n",
    "inf_saldos['periodo'] = pd.to_datetime(inf_saldos['anio'].astype(str) + '-' + inf_saldos['mes'].astype(str) )\n",
    "inf_saldos.tail()"
   ]
  },
  {
   "cell_type": "markdown",
   "metadata": {},
   "source": []
  },
  {
   "cell_type": "code",
   "execution_count": 6,
   "metadata": {},
   "outputs": [
    {
     "name": "stdout",
     "output_type": "stream",
     "text": [
      "<class 'pandas.core.frame.DataFrame'>\n",
      "RangeIndex: 2 entries, 0 to 1\n",
      "Data columns (total 8 columns):\n",
      " #   Column         Non-Null Count  Dtype         \n",
      "---  ------         --------------  -----         \n",
      " 0   id_saldo_mes   2 non-null      int64         \n",
      " 1   fecha          2 non-null      object        \n",
      " 2   mes            2 non-null      int64         \n",
      " 3   anio           2 non-null      int64         \n",
      " 4   saldo_inicial  2 non-null      float64       \n",
      " 5   neto_mes       2 non-null      float64       \n",
      " 6   saldo_final    2 non-null      float64       \n",
      " 7   periodo        2 non-null      datetime64[ns]\n",
      "dtypes: datetime64[ns](1), float64(3), int64(3), object(1)\n",
      "memory usage: 256.0+ bytes\n"
     ]
    }
   ],
   "source": [
    "inf_saldos.info()"
   ]
  },
  {
   "cell_type": "code",
   "execution_count": 7,
   "metadata": {},
   "outputs": [
    {
     "data": {
      "text/html": [
       "<div>\n",
       "<style scoped>\n",
       "    .dataframe tbody tr th:only-of-type {\n",
       "        vertical-align: middle;\n",
       "    }\n",
       "\n",
       "    .dataframe tbody tr th {\n",
       "        vertical-align: top;\n",
       "    }\n",
       "\n",
       "    .dataframe thead th {\n",
       "        text-align: right;\n",
       "    }\n",
       "</style>\n",
       "<table border=\"1\" class=\"dataframe\">\n",
       "  <thead>\n",
       "    <tr style=\"text-align: right;\">\n",
       "      <th>periodo</th>\n",
       "      <th>index</th>\n",
       "      <th>2023-01</th>\n",
       "      <th>2023-02</th>\n",
       "    </tr>\n",
       "  </thead>\n",
       "  <tbody>\n",
       "    <tr>\n",
       "      <th>0</th>\n",
       "      <td>saldo_inicial</td>\n",
       "      <td>48779871.01</td>\n",
       "      <td>63931615.02</td>\n",
       "    </tr>\n",
       "  </tbody>\n",
       "</table>\n",
       "</div>"
      ],
      "text/plain": [
       "periodo          index      2023-01      2023-02\n",
       "0        saldo_inicial  48779871.01  63931615.02"
      ]
     },
     "execution_count": 7,
     "metadata": {},
     "output_type": "execute_result"
    }
   ],
   "source": [
    "# ============================================================================================================\n",
    "# Crea un dataframe resumen de inf_saldos\n",
    "# con la suma de 'total_neto' por 'id_item_cod' y 'periodo'\n",
    "# ============================================================================================================\n",
    "\n",
    "# Crear el DataFrame reporte_final utilizando pivot_table\n",
    "saldos_final = pd.pivot_table(inf_saldos, \n",
    "                               values='saldo_inicial', \n",
    "                               columns='periodo', \n",
    "                               aggfunc='sum')\n",
    "\n",
    "# Conservar el formato datetime en los títulos de las columnas\n",
    "saldos_final.columns = saldos_final.columns.strftime('%Y-%m')\n",
    "\n",
    "saldos_final.reset_index(inplace = True)\n",
    "\n",
    "# Mostrando el nuevo dataframe\n",
    "saldos_final"
   ]
  },
  {
   "cell_type": "code",
   "execution_count": 9,
   "metadata": {},
   "outputs": [
    {
     "name": "stdout",
     "output_type": "stream",
     "text": [
      "<class 'pandas.core.frame.DataFrame'>\n",
      "RangeIndex: 1 entries, 0 to 0\n",
      "Data columns (total 3 columns):\n",
      " #   Column   Non-Null Count  Dtype  \n",
      "---  ------   --------------  -----  \n",
      " 0   index    1 non-null      object \n",
      " 1   2023-01  1 non-null      float64\n",
      " 2   2023-02  1 non-null      float64\n",
      "dtypes: float64(2), object(1)\n",
      "memory usage: 152.0+ bytes\n"
     ]
    }
   ],
   "source": [
    "saldos_final.info()"
   ]
  },
  {
   "cell_type": "code",
   "execution_count": 10,
   "metadata": {},
   "outputs": [
    {
     "data": {
      "text/html": [
       "<div>\n",
       "<style scoped>\n",
       "    .dataframe tbody tr th:only-of-type {\n",
       "        vertical-align: middle;\n",
       "    }\n",
       "\n",
       "    .dataframe tbody tr th {\n",
       "        vertical-align: top;\n",
       "    }\n",
       "\n",
       "    .dataframe thead th {\n",
       "        text-align: right;\n",
       "    }\n",
       "</style>\n",
       "<table border=\"1\" class=\"dataframe\">\n",
       "  <thead>\n",
       "    <tr style=\"text-align: right;\">\n",
       "      <th>periodo</th>\n",
       "      <th>id_item_cod</th>\n",
       "      <th>2023-01</th>\n",
       "      <th>2023-02</th>\n",
       "    </tr>\n",
       "  </thead>\n",
       "  <tbody>\n",
       "    <tr>\n",
       "      <th>0</th>\n",
       "      <td>saldo_inicial</td>\n",
       "      <td>48779871.01</td>\n",
       "      <td>63931615.02</td>\n",
       "    </tr>\n",
       "  </tbody>\n",
       "</table>\n",
       "</div>"
      ],
      "text/plain": [
       "periodo    id_item_cod      2023-01      2023-02\n",
       "0        saldo_inicial  48779871.01  63931615.02"
      ]
     },
     "execution_count": 10,
     "metadata": {},
     "output_type": "execute_result"
    }
   ],
   "source": [
    "# ============================================================================================================\n",
    "# Renombrar la columna 'index' de la tabla saldos_final a 'id_item_cod'\n",
    "# ============================================================================================================\n",
    "saldos_final.rename(columns={'index':'id_item_cod'}, inplace=True)\n",
    "saldos_final"
   ]
  },
  {
   "cell_type": "code",
   "execution_count": 11,
   "metadata": {},
   "outputs": [
    {
     "name": "stdout",
     "output_type": "stream",
     "text": [
      "<class 'pandas.core.frame.DataFrame'>\n",
      "RangeIndex: 1 entries, 0 to 0\n",
      "Data columns (total 3 columns):\n",
      " #   Column       Non-Null Count  Dtype  \n",
      "---  ------       --------------  -----  \n",
      " 0   id_item_cod  1 non-null      object \n",
      " 1   2023-01      1 non-null      float64\n",
      " 2   2023-02      1 non-null      float64\n",
      "dtypes: float64(2), object(1)\n",
      "memory usage: 152.0+ bytes\n"
     ]
    }
   ],
   "source": [
    "saldos_final.info()"
   ]
  },
  {
   "cell_type": "code",
   "execution_count": 14,
   "metadata": {},
   "outputs": [
    {
     "data": {
      "text/html": [
       "<div>\n",
       "<style scoped>\n",
       "    .dataframe tbody tr th:only-of-type {\n",
       "        vertical-align: middle;\n",
       "    }\n",
       "\n",
       "    .dataframe tbody tr th {\n",
       "        vertical-align: top;\n",
       "    }\n",
       "\n",
       "    .dataframe thead th {\n",
       "        text-align: right;\n",
       "    }\n",
       "</style>\n",
       "<table border=\"1\" class=\"dataframe\">\n",
       "  <thead>\n",
       "    <tr style=\"text-align: right;\">\n",
       "      <th>periodo</th>\n",
       "      <th>id_item_cod</th>\n",
       "      <th>2023-01</th>\n",
       "      <th>2023-02</th>\n",
       "    </tr>\n",
       "  </thead>\n",
       "  <tbody>\n",
       "    <tr>\n",
       "      <th>0</th>\n",
       "      <td>48</td>\n",
       "      <td>48779871.01</td>\n",
       "      <td>63931615.02</td>\n",
       "    </tr>\n",
       "  </tbody>\n",
       "</table>\n",
       "</div>"
      ],
      "text/plain": [
       "periodo  id_item_cod      2023-01      2023-02\n",
       "0                 48  48779871.01  63931615.02"
      ]
     },
     "execution_count": 14,
     "metadata": {},
     "output_type": "execute_result"
    }
   ],
   "source": [
    "# ============================================================================================================\n",
    "# Cambiar el contenido del registro en la columna 'id_item_cod' de la tabla saldos_final\n",
    "# ============================================================================================================\n",
    "saldos_final['id_item_cod'] = saldos_final['id_item_cod'].replace('saldo_inicial', '48')\n",
    "saldos_final['id_item_cod'] = saldos_final['id_item_cod'].astype(int)\n",
    "\n",
    "saldos_final"
   ]
  },
  {
   "cell_type": "code",
   "execution_count": null,
   "metadata": {},
   "outputs": [],
   "source": []
  }
 ],
 "metadata": {
  "kernelspec": {
   "display_name": "env",
   "language": "python",
   "name": "python3"
  },
  "language_info": {
   "codemirror_mode": {
    "name": "ipython",
    "version": 3
   },
   "file_extension": ".py",
   "mimetype": "text/x-python",
   "name": "python",
   "nbconvert_exporter": "python",
   "pygments_lexer": "ipython3",
   "version": "3.10.7"
  }
 },
 "nbformat": 4,
 "nbformat_minor": 2
}
