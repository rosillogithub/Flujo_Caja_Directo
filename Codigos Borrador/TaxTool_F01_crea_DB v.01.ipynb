{
 "cells": [
  {
   "cell_type": "code",
   "execution_count": 2,
   "metadata": {},
   "outputs": [],
   "source": [
    "import os\n",
    "import pandas as pd"
   ]
  },
  {
   "cell_type": "code",
   "execution_count": 4,
   "metadata": {},
   "outputs": [],
   "source": [
    "import mysql.connector\n",
    "\n",
    "# establecer la conexión\n",
    "cnx = mysql.connector.connect(user='root', password='mysql20', host='localhost')"
   ]
  },
  {
   "cell_type": "code",
   "execution_count": 7,
   "metadata": {},
   "outputs": [],
   "source": [
    "# crear un cursor\n",
    "cursor = cnx.cursor()\n",
    "\n",
    "# Si la base de datos ya existe, eliminarla por MySQL Workbench o por código\n",
    "\n",
    "# crear una nueva base de datos\n",
    "# cursor.execute(\"CREATE DATABASE flujo_caja_directo\")\n",
    "\n",
    "# seleccionar la base de datos\n",
    "cursor.execute(\"USE flujo_caja_directo \")"
   ]
  },
  {
   "cell_type": "code",
   "execution_count": 8,
   "metadata": {},
   "outputs": [],
   "source": [
    "# crear tabla de grupos\n",
    "cursor.execute(\"\"\"\n",
    "    CREATE TABLE tbl_FCDir_grupos (\n",
    "        id_grp INT AUTO_INCREMENT PRIMARY KEY,\n",
    "        name VARCHAR(40)\n",
    "    )\n",
    "\"\"\")\n",
    "\n",
    "# cargar los datos sin el id_grp porque es AUTO_INCREMENT"
   ]
  },
  {
   "cell_type": "code",
   "execution_count": 6,
   "metadata": {},
   "outputs": [],
   "source": [
    "# crear tabla de items\n",
    "cursor.execute(\"\"\"\n",
    "    CREATE TABLE tbl_FCDir_items (\n",
    "        id_item INT AUTO_INCREMENT PRIMARY KEY,\n",
    "        name VARCHAR(100),\n",
    "        id_grp INT,\n",
    "        FOREIGN KEY (id_grp) REFERENCES tbl_FCDir_grupos(id_grp)\n",
    "    )\n",
    "\"\"\")\n",
    "\n",
    "# cargar los datos sin el id_item porque es AUTO_INCREMENT"
   ]
  },
  {
   "cell_type": "code",
   "execution_count": 13,
   "metadata": {},
   "outputs": [],
   "source": [
    "# crear tabla de codigos contables\n",
    "cursor.execute(\"\"\"\n",
    "    CREATE TABLE tbl_FCDir_contab (\n",
    "        id_cod INT AUTO_INCREMENT PRIMARY KEY,\n",
    "        cod_cont INT,\n",
    "        name VARCHAR(80),\n",
    "        id_item_deb INT,\n",
    "        id_item_cre INT,\n",
    "        id_grp INT,\n",
    "        FOREIGN KEY (id_item_deb) REFERENCES tbl_FCDir_items(id_item),\n",
    "        FOREIGN KEY (id_item_cre) REFERENCES tbl_FCDir_items(id_item),\n",
    "        FOREIGN KEY (id_grp) REFERENCES tbl_FCDir_grupos(id_grp)\n",
    "    )\n",
    "\"\"\")\n",
    "\n",
    "# cargar los datos sin el id_cod porque es AUTO_INCREMENT"
   ]
  },
  {
   "cell_type": "code",
   "execution_count": 8,
   "metadata": {},
   "outputs": [
    {
     "name": "stdout",
     "output_type": "stream",
     "text": [
      "c:\\Emprendimiento\n"
     ]
    }
   ],
   "source": [
    "# Cambia el directorio de trabajo a 'C:/path/to/your/directory'\n",
    "# os.chdir('C:/Emprendimiento/Pry_Datos/')\n",
    "\n",
    "# Imprime la ruta del directorio de trabajo actual\n",
    "print(os.getcwd())"
   ]
  },
  {
   "cell_type": "code",
   "execution_count": null,
   "metadata": {},
   "outputs": [
    {
     "data": {
      "text/plain": [
       "True"
      ]
     },
     "execution_count": 9,
     "metadata": {},
     "output_type": "execute_result"
    }
   ],
   "source": [
    "# Se cargaron los datos de la tabla grupos en la base de datos flujo_caja_directo (pre edición en excel)\n",
    "# Se cargaron los datos de la tabla items en la base de datos flujo_caja_directo (pre edición en excel)\n",
    "# Se cargaron los datos de la tabla registros_contables en la base de datos flujo_caja_directo (pre edición en excel)"
   ]
  },
  {
   "cell_type": "code",
   "execution_count": 18,
   "metadata": {},
   "outputs": [],
   "source": [
    "# Borrar las tablas \n",
    "# Volver a crearlas con las restricciones de clave foránea y AUTO_INCREMENT\n",
    "# Cargar los datos de las tablas con Scripts de Python que no tengan id_xxx"
   ]
  },
  {
   "cell_type": "code",
   "execution_count": null,
   "metadata": {},
   "outputs": [],
   "source": [
    "# Cerrar cursor\n",
    "cursor.close()\n",
    "\n",
    "# cerrar la conexión\n",
    "cnx.close()"
   ]
  }
 ],
 "metadata": {
  "kernelspec": {
   "display_name": "Python 3",
   "language": "python",
   "name": "python3"
  },
  "language_info": {
   "codemirror_mode": {
    "name": "ipython",
    "version": 3
   },
   "file_extension": ".py",
   "mimetype": "text/x-python",
   "name": "python",
   "nbconvert_exporter": "python",
   "pygments_lexer": "ipython3",
   "version": "3.10.7"
  }
 },
 "nbformat": 4,
 "nbformat_minor": 2
}
