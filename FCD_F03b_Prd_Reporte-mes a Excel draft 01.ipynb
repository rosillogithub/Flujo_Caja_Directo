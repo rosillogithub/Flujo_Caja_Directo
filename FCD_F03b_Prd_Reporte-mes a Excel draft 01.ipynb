{
 "cells": [
  {
   "cell_type": "code",
   "execution_count": null,
   "metadata": {},
   "outputs": [],
   "source": [
    "import pandas as pd\n",
    "\n",
    "import mysql.connector\n",
    "import configparser\n",
    "from openpyxl import Workbook\n",
    "\n",
    "import openpyxl\n",
    "from openpyxl.utils import get_column_letter\n",
    "from openpyxl.styles import Font"
   ]
  },
  {
   "cell_type": "code",
   "execution_count": null,
   "metadata": {},
   "outputs": [],
   "source": [
    "# ============================================================================================================\n",
    "# Exportar el DataFrame reporte_final a un archivo Excel\n",
    "# ============================================================================================================"
   ]
  },
  {
   "cell_type": "code",
   "execution_count": null,
   "metadata": {},
   "outputs": [],
   "source": [
    "# seleccionar la primera coumna con valores para guardar su vallor en la variable 'periodo1'\n",
    "periodo1 = reporte_final.columns[4]\n",
    "\n",
    "# Crearemos un DataFrame auxiliar para cada tipo de grupo y subtotal\n",
    "grupo_2 = reporte_final[reporte_final['id_grp'] == 2].sort_values(by=periodo1)\n",
    "grupo_3 = reporte_final[reporte_final['id_grp'] == 3].sort_values(by=periodo1)\n",
    "grupo_4 = reporte_final[reporte_final['id_grp'] == 4].sort_values(by=periodo1)\n",
    "grupo_5 = reporte_final[reporte_final['id_grp'] == 5]\n",
    "grupo_6 = reporte_final[reporte_final['id_grp'] == 6]\n",
    "\n",
    "# Crear un nuevo DataFrame para el reporte\n",
    "nuevo_reporte = pd.DataFrame(columns=reporte_final.columns)\n",
    "\n",
    "# Agregar encabezados\n",
    "# nuevo_reporte.loc[0, 0] = 'Empresa SHINA'\n",
    "# nuevo_reporte.loc[1, 0] = ''  # Segunda fila vacía\n",
    "\n",
    "# Agregar información de saldo inicial\n",
    "nuevo_reporte = pd.concat([nuevo_reporte, grupo_5], ignore_index=True)\n",
    "nuevo_reporte.loc[len(nuevo_reporte)] = ''  # Cuarta fila vacía\n",
    "\n",
    "# Agregar registros de id_grp = 4\n",
    "nuevo_reporte = pd.concat([nuevo_reporte, grupo_4], ignore_index=True)\n",
    "# calcular subtotal de registros con id_grp = 4\n",
    "subtotal_grupo_4 = grupo_4.iloc[:, 4:].sum()\n",
    "# Agregar la fila con el subtotal\n",
    "nuevo_reporte.loc[len(nuevo_reporte)] = subtotal_grupo_4\n",
    "# Siguiente fila vacía\n",
    "nuevo_reporte.loc[len(nuevo_reporte)] = ''  \n",
    "\n",
    "# Agregar registros de id_grp = 3 y calcular subtotal\n",
    "nuevo_reporte = pd.concat([nuevo_reporte, grupo_3], ignore_index=True)\n",
    "subtotal_grupo_3 = grupo_3.iloc[:, 4:].sum()\n",
    "nuevo_reporte.loc[len(nuevo_reporte)] = subtotal_grupo_3\n",
    "nuevo_reporte.loc[len(nuevo_reporte)] = ''  # Siguiente fila vacía\n",
    "\n",
    "# Agregar registros de id_grp = 2 y calcular subtotal\n",
    "nuevo_reporte = pd.concat([nuevo_reporte, grupo_2], ignore_index=True)\n",
    "subtotal_grupo_2 = grupo_2.iloc[:, 4:].sum()\n",
    "nuevo_reporte.loc[len(nuevo_reporte)] = subtotal_grupo_2\n",
    "nuevo_reporte.loc[len(nuevo_reporte)] = ''  # Siguiente fila vacía\n",
    "\n",
    "# Calcular saldo final\n",
    "saldo_final = grupo_5.iloc[:, 4:].sum() + subtotal_grupo_2 + subtotal_grupo_3 + subtotal_grupo_4\n",
    "nuevo_reporte.loc[len(nuevo_reporte)] = saldo_final\n",
    "\n",
    "# Guardar el DataFrame en un archivo Excel\n",
    "nuevo_reporte.to_excel('reporte_excel.xlsx', index=False, header=False)"
   ]
  }
 ],
 "metadata": {
  "kernelspec": {
   "display_name": "env",
   "language": "python",
   "name": "python3"
  },
  "language_info": {
   "codemirror_mode": {
    "name": "ipython",
    "version": 3
   },
   "file_extension": ".py",
   "mimetype": "text/x-python",
   "name": "python",
   "nbconvert_exporter": "python",
   "pygments_lexer": "ipython3",
   "version": "3.10.7"
  }
 },
 "nbformat": 4,
 "nbformat_minor": 2
}
