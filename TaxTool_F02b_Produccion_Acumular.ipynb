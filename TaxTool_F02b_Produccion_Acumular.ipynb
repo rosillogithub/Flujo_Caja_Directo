{
 "cells": [
  {
   "cell_type": "markdown",
   "metadata": {},
   "source": [
    "Los procedimientos almacenados son objetos de la base de datos y deben ser ejecutados explícitamente → llamados manualmente para que se ejecuten.\n",
    "A diferencia de los triggers, que se activan automáticamente en respuesta a ciertos eventos.\n",
    "\n",
    "Un procedimiento almacenado es un conjunto de instrucciones SQL que se almacenan en el servidor de la base de datos y pueden ser invocados en cualquier momento. \n",
    "\n",
    "Estos procedimientos pueden tomar parámetros y realizar diversas tareas, como recuperar datos, modificar registros, realizar cálculos complejos, etc.\n",
    "\n",
    "Para ejecutar un procedimiento almacenado, generalmente se utiliza la sentencia \"CALL\" seguida del nombre del procedimiento y los argumentos necesarios, si los hay. Por ejemplo:\n",
    "\n",
    "  * CALL nombre_del_procedimiento(argumento1, argumento2, ...);\n",
    "\n",
    "También puedes ejecutar procedimientos almacenados desde tu aplicación utilizando el conector de MySQL correspondiente en el lenguaje de programación que estés utilizando.\n",
    "\n",
    "ATENCIÓN: Los procedimientos almacenados ofrecen ventajas como la reutilización de código, la mejora del rendimiento y la seguridad, pero su uso también puede implicar una mayor complejidad y mantenimiento.\n",
    "\n",
    "========================================================================================"
   ]
  },
  {
   "cell_type": "code",
   "execution_count": 41,
   "metadata": {},
   "outputs": [],
   "source": [
    "import os\n",
    "import pandas as pd\n",
    "import mysql.connector\n",
    "import configparser"
   ]
  },
  {
   "cell_type": "code",
   "execution_count": 42,
   "metadata": {},
   "outputs": [],
   "source": [
    "# Leer las credenciales del archivo de configuración\n",
    "config = configparser.ConfigParser()\n",
    "config.read('config.ini')\n",
    "\n",
    "user = config['database']['user']\n",
    "password = config['database']['password']\n",
    "host = config['database']['host']\n",
    "database = config['database']['database']\n",
    "\n",
    "# ==============================================================================\n",
    "\n",
    "# Conectar a la base de datos\n",
    "conexion = mysql.connector.connect(\n",
    "    host=host,\n",
    "    database=database,\n",
    "    user=user,\n",
    "    password=password\n",
    ")\n",
    "\n",
    "cursor = conexion.cursor()\n",
    "\n",
    "# ==============================================================================\n",
    "\n",
    "# ==============================================================================\n",
    "\n",
    "# Asegurarse de aplicar los cambios en la base de datos\n",
    "conexion.commit()\n",
    "\n",
    "# Cerrar el cursor y la conexión\n",
    "cursor.close()\n",
    "conexion.close()"
   ]
  },
  {
   "cell_type": "code",
   "execution_count": null,
   "metadata": {},
   "outputs": [],
   "source": []
  },
  {
   "cell_type": "markdown",
   "metadata": {},
   "source": [
    "# Código MySQL\n",
    "\n",
    "DELIMITER //\n",
    "\n",
    "CREATE PROCEDURE InsertarFlujoReporte(\n",
    "    IN mes_param INT,\n",
    "    IN anio_param INT\n",
    ")\n",
    "BEGIN\n",
    "    -- Eliminar registros existentes para el mes y año especificados\n",
    "    DELETE FROM tbl_flujo_reporte WHERE mes = mes_param AND anio = anio_param;\n",
    "\n",
    "    -- Insertar nuevos registros basados en los acumulados de NETO por ITEM_COD\n",
    "    INSERT INTO tbl_flujo_reporte (id_item_cod, anio, mes, total_neto)\n",
    "    SELECT \n",
    "        ITEM_COD,\n",
    "        ANIO,\n",
    "        MES,\n",
    "        SUM(NETO) AS total_neto\n",
    "    FROM tbl_transacciones\n",
    "    WHERE MES = mes_param AND ANIO = anio_param\n",
    "    GROUP BY ITEM_COD, ANIO, MES;\n",
    "\n",
    "END //\n",
    "\n",
    "DELIMITER ;\n",
    "\n",
    "========================================================================================"
   ]
  },
  {
   "cell_type": "markdown",
   "metadata": {},
   "source": [
    "DESCRIPCION\n",
    "\n",
    "Este procedimiento almacenado: \n",
    "1. eliminará cualquier registro existente en la tabla \"tbl_flujo_reporte\" para el mes y año especificados y luego \n",
    "2. insertará nuevos registros basados en los acumulados de NETO por \"ITEM_COD\" para ese mes y año.\n",
    "\n",
    "========================================================================================"
   ]
  },
  {
   "cell_type": "markdown",
   "metadata": {},
   "source": [
    "* Para llamar a este procedimiento desde Jupyter Notebook con Python, puedes utilizar bibliotecas como mysql-connector-python o pymysql. \n",
    "* Ejemplo de cómo podrías llamar al procedimiento utilizando mysql-connector-python:"
   ]
  },
  {
   "cell_type": "code",
   "execution_count": 43,
   "metadata": {},
   "outputs": [],
   "source": [
    "import mysql.connector\n",
    "import configparser"
   ]
  },
  {
   "cell_type": "code",
   "execution_count": 44,
   "metadata": {},
   "outputs": [],
   "source": [
    "# Leer las credenciales del archivo de configuración\n",
    "config = configparser.ConfigParser()\n",
    "config.read('config.ini')\n",
    "\n",
    "user = config['database']['user']\n",
    "password = config['database']['password']\n",
    "host = config['database']['host']\n",
    "database = config['database']['database']\n",
    "\n",
    "# Abrir la base de datos: establecer la conexión\n",
    "conn = mysql.connector.connect(user=user, password=password, host=host, database=database)\n",
    "\n",
    "# crear un cursor\n",
    "cursor = conn.cursor()\n",
    "\n",
    "# seleccionar la base de datos\n",
    "cursor.execute(\"USE flujo_caja_directo \")\n",
    "\n",
    "# =====================================================================================================================\n",
    "\n",
    "# Llamar al procedimiento almacenado\n",
    "mes = 12  # Mes de ejemplo\n",
    "anio = 2023  # Año de ejemplo\n",
    "cursor.callproc(\"AcumulaFlujo\", [mes, anio])\n",
    "\n",
    "# =====================================================================================================================\n",
    "\n",
    "# Confirmar los cambios\n",
    "conn.commit()\n",
    "\n",
    "# Cerrar el cursor y la conexión\n",
    "cursor.close()\n",
    "conn.close()"
   ]
  },
  {
   "cell_type": "code",
   "execution_count": null,
   "metadata": {},
   "outputs": [],
   "source": []
  },
  {
   "cell_type": "markdown",
   "metadata": {},
   "source": [
    "La tabla \"tbl_flujo_reporte\" debe resumir en cada \"id_item\" el contenido del campo NETO de la tabla \"tbl_transacciones\" según \"ITEM_COD\", \"ANIO\" y \"MES\"\n",
    "\n",
    "Evaluar las siguientes opciones:\n",
    "1. ir creando una columna en tabla \"tbl_flujo_reporte\" para resumir la información de cada mes/año\n",
    "2. Modificar la estructura de la tabla \"tbl_flujo_reporte\" para que reciba un registro por cada acumulado de NETO por \"ITEM_COD\",   \"ANIO\" y \"MES\"\n",
    "\n",
    "========================================================================================\n",
    "\n",
    "1. **Crear una columna en la tabla \"tbl_flujo_reporte\" para resumir la información de cada mes/año**: \n",
    "* Esta opción implica agregar una nueva columna para cada mes/año en la tabla \"tbl_flujo_reporte\". Cada vez que se ingresen nuevos datos en la tabla \"tbl_transacciones\", tendrás que actualizar las columnas correspondientes en \"tbl_flujo_reporte\". \n",
    "* Esto podría ser eficiente si necesitas acceder rápidamente a los totales mensuales/año sin tener que realizar cálculos complejos en tiempo de consulta. \n",
    "* Sin embargo, podría volverse complicado si hay muchos meses/años diferentes o si la cantidad de datos es grande, ya que tendrías muchas columnas en la tabla \"tbl_flujo_reporte\".\n",
    "\n",
    "2. **Modificar la estructura de la tabla \"tbl_flujo_reporte\" para que reciba un registro por cada acumulado de NETO por \"ITEM_COD\", \"ANIO\" y \"MES\"**: \n",
    "* En esta opción, en lugar de tener una columna para cada mes/año en \"tbl_flujo_reporte\", tendrías una fila por cada combinación de \"ITEM_COD\", \"ANIO\" y \"MES\", con una columna que almacena el total NETO correspondiente. \n",
    "* Esto sería más escalable y flexible, ya que no tendrías que modificar la estructura de la tabla cada vez que agregues un nuevo mes/año. \n",
    "* Además, permitiría consultas más flexibles y eficientes sobre los datos agregados.\n",
    "\n",
    "En general, la opción 2 parece ser la más flexible y escalable, ya que te permite almacenar los totales NETO de manera estructurada y realizar consultas eficientes sobre ellos. Sin embargo, la elección final dependerá de tus necesidades específicas y de la complejidad de tu aplicación.\n",
    "\n",
    "========================================================================================"
   ]
  },
  {
   "cell_type": "markdown",
   "metadata": {},
   "source": [
    "Uno de los propósitos de la tabla \"tbl_flujo_reporte\" es que sirva como puente para tomar datos que alimentarán un reporte\n",
    "\n",
    "* Si el propósito principal de la tabla \"tbl_flujo_reporte\" es alimentar un reporte, entonces la opción 2 parece ser la más adecuada. \n",
    "* Al tener una fila por cada combinación de \"ITEM_COD\", \"ANIO\" y \"MES\" con el total NETO correspondiente, puedes generar fácilmente los datos necesarios para el reporte utilizando consultas SQL simples.\n",
    "* Además, al utilizar esta estructura, la tabla \"tbl_flujo_reporte\" actuará como un puente eficiente para obtener los datos agregados necesarios para el reporte, ya que los totales NETO estarán precalculados y disponibles en la tabla, lo que evitará la necesidad de realizar cálculos complejos en tiempo de consulta.\n",
    "\n",
    "Por lo tanto, la opción 2 te proporcionará una estructura eficiente y escalable para alimentar el reporte, lo que facilitará el proceso de generación del mismo y garantizará un rendimiento óptimo, especialmente si estás trabajando con grandes volúmenes de datos."
   ]
  },
  {
   "cell_type": "markdown",
   "metadata": {},
   "source": []
  },
  {
   "cell_type": "markdown",
   "metadata": {},
   "source": [
    "Consulta para mostrar los procedimientos almacenados (stored procedures) en MySQL:\n",
    "\n",
    "SHOW PROCEDURE STATUS;\n",
    "\n",
    "========================================================================================"
   ]
  },
  {
   "cell_type": "markdown",
   "metadata": {},
   "source": [
    "Consulta que muestra el código fuente completo del procedimiento almacenado (lógica y parámetros):\n",
    "\n",
    "SHOW CREATE PROCEDURE nombre_del_procedimiento;\n",
    "\n",
    "========================================================================================"
   ]
  },
  {
   "cell_type": "markdown",
   "metadata": {},
   "source": [
    "Borrar:\n",
    "\n",
    "DROP PROCEDURE IF EXISTS nombre_del_procedimiento;\n",
    "\n",
    "========================================================================================"
   ]
  }
 ],
 "metadata": {
  "kernelspec": {
   "display_name": "Python 3",
   "language": "python",
   "name": "python3"
  },
  "language_info": {
   "codemirror_mode": {
    "name": "ipython",
    "version": 3
   },
   "file_extension": ".py",
   "mimetype": "text/x-python",
   "name": "python",
   "nbconvert_exporter": "python",
   "pygments_lexer": "ipython3",
   "version": "3.10.7"
  }
 },
 "nbformat": 4,
 "nbformat_minor": 2
}
