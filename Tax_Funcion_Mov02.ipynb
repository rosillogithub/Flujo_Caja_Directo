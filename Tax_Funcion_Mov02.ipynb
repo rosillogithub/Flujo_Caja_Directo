{
 "cells": [
  {
   "cell_type": "markdown",
   "metadata": {},
   "source": [
    "Función\n",
    "* Seleccionar un documento con Unique para trasladarlo a un dataset temporal\n",
    "* Verificar si contiene una de las cuentas tipo \"Cash and Equivalent\"\n",
    "  * En caso afirmativo agregar los registros al dataframe df_mov_cash\n",
    "  * En caso negativo agregar los registros al dataframe df_mov_nocash\n"
   ]
  },
  {
   "cell_type": "markdown",
   "metadata": {},
   "source": [
    "Hacer una funcón que tome el dataframe df_Mov_99 y seleccione cada grupo de registros cuyo campo DOCUMENTO sea igual. \n",
    "\n",
    "A cada grupo de registros le aplique la siguiente lógica: \n",
    "* Si alguno de los registros tiene el contenido de la lista \"cod_cont_fcd\", guardar los registros de en un dataframe llamado \"df_mov_fcd\" \n",
    "* Si ninguno de los registros tiene el contenido de la lista \"cod_cont_fcd\", no guardar los registros de en un dataframe llamado \"df_mov_fcd\""
   ]
  },
  {
   "cell_type": "code",
   "execution_count": 1,
   "metadata": {},
   "outputs": [],
   "source": [
    "import os\n",
    "import pandas as pd\n",
    "import numpy as np\n",
    "from datetime import datetime\n",
    "import matplotlib.pyplot as plt\n"
   ]
  },
  {
   "cell_type": "code",
   "execution_count": 2,
   "metadata": {},
   "outputs": [
    {
     "name": "stdout",
     "output_type": "stream",
     "text": [
      "c:\\Emprendimiento\n"
     ]
    }
   ],
   "source": [
    "# Cambia el directorio de trabajo a 'C:/path/to/your/directory'\n",
    "# os.chdir('C:/Emprendimiento/Pry_Datos/')\n",
    "\n",
    "# Imprime la ruta del directorio de trabajo actual\n",
    "print(os.getcwd())"
   ]
  },
  {
   "cell_type": "code",
   "execution_count": 3,
   "metadata": {},
   "outputs": [
    {
     "data": {
      "text/html": [
       "<div>\n",
       "<style scoped>\n",
       "    .dataframe tbody tr th:only-of-type {\n",
       "        vertical-align: middle;\n",
       "    }\n",
       "\n",
       "    .dataframe tbody tr th {\n",
       "        vertical-align: top;\n",
       "    }\n",
       "\n",
       "    .dataframe thead th {\n",
       "        text-align: right;\n",
       "    }\n",
       "</style>\n",
       "<table border=\"1\" class=\"dataframe\">\n",
       "  <thead>\n",
       "    <tr style=\"text-align: right;\">\n",
       "      <th></th>\n",
       "      <th>FECHA</th>\n",
       "      <th>DOCUMENTO</th>\n",
       "      <th>TIPODOC</th>\n",
       "      <th>NUMDOC</th>\n",
       "      <th>CUENTA</th>\n",
       "      <th>CONCEPTO</th>\n",
       "      <th>NETO</th>\n",
       "      <th>DEBITO</th>\n",
       "      <th>CREDITO</th>\n",
       "      <th>IDENTIDADTERCERO</th>\n",
       "      <th>DOC_FUENTE</th>\n",
       "      <th>DV</th>\n",
       "      <th>NOMBRETERCERO</th>\n",
       "    </tr>\n",
       "  </thead>\n",
       "  <tbody>\n",
       "    <tr>\n",
       "      <th>0</th>\n",
       "      <td>2023-04-19</td>\n",
       "      <td>FC  00000433</td>\n",
       "      <td>FC</td>\n",
       "      <td>433</td>\n",
       "      <td>51350501</td>\n",
       "      <td>OPERARIO DE ASEO Y LIMPIEZA</td>\n",
       "      <td>2280607.68</td>\n",
       "      <td>2280607.68</td>\n",
       "      <td>0.00</td>\n",
       "      <td>900994552</td>\n",
       "      <td>FEV-2023</td>\n",
       "      <td>3.0</td>\n",
       "      <td>FIXXTER SAS</td>\n",
       "    </tr>\n",
       "    <tr>\n",
       "      <th>1</th>\n",
       "      <td>2023-04-19</td>\n",
       "      <td>FC  00000433</td>\n",
       "      <td>FC</td>\n",
       "      <td>433</td>\n",
       "      <td>51350501</td>\n",
       "      <td>OPERARIO DE ASEO Y LIMPIEZA</td>\n",
       "      <td>228060.77</td>\n",
       "      <td>228060.77</td>\n",
       "      <td>0.00</td>\n",
       "      <td>900994552</td>\n",
       "      <td>FEV-2023</td>\n",
       "      <td>3.0</td>\n",
       "      <td>FIXXTER SAS</td>\n",
       "    </tr>\n",
       "    <tr>\n",
       "      <th>2</th>\n",
       "      <td>2023-04-19</td>\n",
       "      <td>FC  00000433</td>\n",
       "      <td>FC</td>\n",
       "      <td>433</td>\n",
       "      <td>24081002</td>\n",
       "      <td>OPERARIO DE ASEO Y LIMPIEZA</td>\n",
       "      <td>43331.55</td>\n",
       "      <td>43331.55</td>\n",
       "      <td>0.00</td>\n",
       "      <td>900994552</td>\n",
       "      <td>FEV-2023</td>\n",
       "      <td>3.0</td>\n",
       "      <td>FIXXTER SAS</td>\n",
       "    </tr>\n",
       "    <tr>\n",
       "      <th>3</th>\n",
       "      <td>2023-04-19</td>\n",
       "      <td>FC  00000433</td>\n",
       "      <td>FC</td>\n",
       "      <td>433</td>\n",
       "      <td>23355004</td>\n",
       "      <td>OPERARIO DE ASEO Y LIMPIEZA</td>\n",
       "      <td>-2552000.00</td>\n",
       "      <td>0.00</td>\n",
       "      <td>2552000.00</td>\n",
       "      <td>900994552</td>\n",
       "      <td>FEV-2023</td>\n",
       "      <td>3.0</td>\n",
       "      <td>FIXXTER SAS</td>\n",
       "    </tr>\n",
       "    <tr>\n",
       "      <th>4</th>\n",
       "      <td>2023-01-01</td>\n",
       "      <td>CC  00000073</td>\n",
       "      <td>CC</td>\n",
       "      <td>73</td>\n",
       "      <td>361005</td>\n",
       "      <td>TRASLADO DE RESULTADOS DE AÑO 2022</td>\n",
       "      <td>-71627508.55</td>\n",
       "      <td>0.00</td>\n",
       "      <td>71627508.55</td>\n",
       "      <td>901513634</td>\n",
       "      <td>CC  00000073</td>\n",
       "      <td>1.0</td>\n",
       "      <td>CO SERVICES S.A.S</td>\n",
       "    </tr>\n",
       "  </tbody>\n",
       "</table>\n",
       "</div>"
      ],
      "text/plain": [
       "       FECHA     DOCUMENTO TIPODOC  NUMDOC    CUENTA  \\\n",
       "0 2023-04-19  FC  00000433    FC       433  51350501   \n",
       "1 2023-04-19  FC  00000433    FC       433  51350501   \n",
       "2 2023-04-19  FC  00000433    FC       433  24081002   \n",
       "3 2023-04-19  FC  00000433    FC       433  23355004   \n",
       "4 2023-01-01  CC  00000073    CC        73    361005   \n",
       "\n",
       "                             CONCEPTO         NETO      DEBITO      CREDITO  \\\n",
       "0         OPERARIO DE ASEO Y LIMPIEZA   2280607.68  2280607.68         0.00   \n",
       "1         OPERARIO DE ASEO Y LIMPIEZA    228060.77   228060.77         0.00   \n",
       "2         OPERARIO DE ASEO Y LIMPIEZA     43331.55    43331.55         0.00   \n",
       "3         OPERARIO DE ASEO Y LIMPIEZA  -2552000.00        0.00   2552000.00   \n",
       "4  TRASLADO DE RESULTADOS DE AÑO 2022 -71627508.55        0.00  71627508.55   \n",
       "\n",
       "   IDENTIDADTERCERO    DOC_FUENTE   DV      NOMBRETERCERO  \n",
       "0         900994552      FEV-2023  3.0        FIXXTER SAS  \n",
       "1         900994552      FEV-2023  3.0        FIXXTER SAS  \n",
       "2         900994552      FEV-2023  3.0        FIXXTER SAS  \n",
       "3         900994552      FEV-2023  3.0        FIXXTER SAS  \n",
       "4         901513634  CC  00000073  1.0  CO SERVICES S.A.S  "
      ]
     },
     "execution_count": 3,
     "metadata": {},
     "output_type": "execute_result"
    }
   ],
   "source": [
    "# Lectura de archivo xlsx: previamente instalar paquete openpyxl \n",
    "df_Mov_99 = pd.read_excel(r'df_Mov_99.xlsx')\n",
    "\n",
    "# Muestra las primeras 5 filas del DataFrame\n",
    "df_Mov_99.head()"
   ]
  },
  {
   "cell_type": "markdown",
   "metadata": {},
   "source": []
  },
  {
   "cell_type": "code",
   "execution_count": 4,
   "metadata": {},
   "outputs": [],
   "source": [
    "cod_cont_fcd = [110505, 112005]"
   ]
  },
  {
   "cell_type": "code",
   "execution_count": 5,
   "metadata": {},
   "outputs": [
    {
     "name": "stdout",
     "output_type": "stream",
     "text": [
      "<class 'pandas.core.frame.DataFrame'>\n",
      "RangeIndex: 3868 entries, 0 to 3867\n",
      "Data columns (total 13 columns):\n",
      " #   Column            Non-Null Count  Dtype         \n",
      "---  ------            --------------  -----         \n",
      " 0   FECHA             3868 non-null   datetime64[ns]\n",
      " 1   DOCUMENTO         3868 non-null   object        \n",
      " 2   TIPODOC           3868 non-null   object        \n",
      " 3   NUMDOC            3868 non-null   int64         \n",
      " 4   CUENTA            3868 non-null   int64         \n",
      " 5   CONCEPTO          3868 non-null   object        \n",
      " 6   NETO              3868 non-null   float64       \n",
      " 7   DEBITO            3868 non-null   float64       \n",
      " 8   CREDITO           3868 non-null   float64       \n",
      " 9   IDENTIDADTERCERO  3868 non-null   int64         \n",
      " 10  DOC_FUENTE        2812 non-null   object        \n",
      " 11  DV                2268 non-null   float64       \n",
      " 12  NOMBRETERCERO     3868 non-null   object        \n",
      "dtypes: datetime64[ns](1), float64(4), int64(3), object(5)\n",
      "memory usage: 393.0+ KB\n"
     ]
    }
   ],
   "source": [
    "df_Mov_99.info()\n"
   ]
  },
  {
   "cell_type": "code",
   "execution_count": 6,
   "metadata": {},
   "outputs": [
    {
     "name": "stdout",
     "output_type": "stream",
     "text": [
      "['CE  00000468', 'CE  00000429', 'CE  00000430', 'CE  00000431', 'CE  00000432', 'CE  00000433', 'CE  00000434', 'CE  00000435', 'CE  00000436', 'CE  00000437', 'CE  00000438', 'RC  00000033', 'BNC 00000014', 'BNC 00000014', 'BNC 00000014', 'BNC 00000014', 'BNC 00000014', 'BNC 00000014', 'BND 00000014', 'CE  00000455', 'CE  00000456', 'CE  00000457', 'CE  00000458', 'CE  00000459', 'CE  00000460', 'CE  00000461', 'CE  00000462', 'CE  00000463', 'CE  00000464', 'CE  00000465', 'CE  00000466', 'CE  00000467', 'CE  00000477', 'CE  00000478', 'CE  00000479', 'BNC 00000015', 'BNC 00000015', 'BNC 00000015', 'BNC 00000015', 'RC  00000034', 'CE  00000440', 'CE  00000441', 'CE  00000442', 'CE  00000443', 'CE  00000444', 'CE  00000445', 'CE  00000446', 'CE  00000447', 'CE  00000447', 'CE  00000448', 'CE  00000449', 'CE  00000450', 'CE  00000451', 'CE  00000452', 'CE  00000453', 'CE  00000454', 'CE  00000469', 'CE  00000470', 'CE  00000471', 'CE  00000472', 'CE  00000473', 'CE  00000474', 'CE  00000475', 'CE  00000476', 'BNC 00000015', 'BNC 00000015', 'BND 00000015', 'CE  00000480', 'CE  00000481', 'CE  00000482', 'CE  00000483', 'CE  00000484', 'CE  00000485', 'CE  00000486', 'CE  00000487', 'CE  00000488', 'CE  00000489', 'CE  00000490', 'CE  00000491', 'CE  00000498', 'CE  00000499', 'CE  00000500', 'CE  00000501', 'CE  00000502', 'CE  00000503', 'CE  00000504', 'CE  00000505', 'CE  00000506', 'CE  00000507', 'RC  00000035', 'RC  00000036', 'RC  00000037', 'CE  00000508', 'CE  00000509', 'CE  00000510', 'CE  00000511', 'CE  00000512', 'RC  00000038', 'CE  00000513', 'CE  00000514', 'CE  00000515', 'CE  00000516', 'CE  00000517', 'CE  00000518', 'CE  00000519', 'CE  00000520', 'CE  00000521', 'CE  00000522', 'CE  00000523', 'CE  00000524', 'CE  00000525', 'CE  00000526', 'CE  00000527', 'CE  00000528', 'CE  00000529', 'CE  00000530', 'CE  00000531', 'CE  00000532', 'CE  00000533', 'CE  00000534', 'CE  00000535', 'CE  00000536', 'CE  00000537', 'CE  00000538', 'BND 00000016', 'BNC 00000016', 'BNC 00000016', 'BNC 00000016', 'BNC 00000016', 'BNC 00000016', 'BNC 00000016', 'BND 00000017', 'BND 00000017', 'BND 00000017', 'BND 00000017', 'BND 00000017', 'BND 00000017', 'BND 00000018', 'CE  00000539', 'CE  00000540', 'CE  00000541', 'CE  00000542', 'CE  00000543', 'CE  00000544', 'CE  00000545', 'CE  00000546', 'CE  00000547', 'CE  00000548', 'CE  00000549', 'CE  00000550', 'CE  00000551', 'CE  00000552', 'CE  00000553', 'CE  00000554', 'CE  00000555', 'CE  00000556', 'RC  00000039', 'CE  00000557', 'CE  00000558', 'CE  00000559', 'CE  00000560', 'CE  00000561', 'CE  00000562', 'CE  00000563', 'CE  00000564', 'CE  00000565', 'BNC 00000016', 'CE  00000566', 'CE  00000567', 'CE  00000568', 'CE  00000569', 'CE  00000570', 'CE  00000571', 'CE  00000572', 'CE  00000573', 'CE  00000574', 'CE  00000575', 'CE  00000576', 'CE  00000577', 'CE  00000578', 'RC  00000040', 'CE  00000579', 'CE  00000580', 'CE  00000581', 'BND 00000019', 'BNC 00000017', 'BNC 00000017', 'BNC 00000017', 'BNC 00000017', 'BNC 00000017', 'BNC 00000017', 'CE  00000582', 'CE  00000583', 'CE  00000584', 'CE  00000585', 'CE  00000586', 'CE  00000587', 'CE  00000588', 'BND 00000020', 'BNC 00000018', 'BNC 00000018', 'BNC 00000018', 'BNC 00000018', 'RC  00000041', 'CE  00000589', 'CE  00000590', 'CE  00000591', 'CE  00000592', 'CE  00000593', 'CE  00000594', 'CE  00000595', 'CE  00000596', 'CE  00000597', 'CE  00000598', 'CE  00000599', 'CE  00000601', 'CE  00000602', 'CE  00000603', 'CE  00000604', 'CE  00000605', 'CE  00000606', 'CE  00000607', 'BNC 00000019', 'BNC 00000019', 'BNC 00000019', 'BNC 00000019', 'BND 00000021', 'CE  00000608', 'CE  00000609', 'CE  00000610', 'CE  00000611', 'CE  00000612', 'CE  00000613', 'CE  00000614', 'CE  00000600', 'RC  00000042', 'RC  00000043', 'CE  00000615', 'CE  00000616', 'CE  00000617', 'CE  00000618', 'CE  00000619', 'CE  00000620', 'CE  00000621', 'CE  00000622', 'CE  00000623', 'CE  00000624', 'CE  00000625', 'CE  00000626', 'CE  00000627', 'CE  00000628', 'CE  00000629', 'CE  00000630', 'CE  00000631', 'CE  00000632', 'RC  00000045', 'CE  00000633', 'CE  00000634', 'CE  00000635', 'CE  00000636', 'CE  00000637', 'CE  00000638', 'CE  00000639', 'CE  00000640', 'CE  00000641', 'CE  00000642', 'CE  00000643', 'CE  00000644', 'CE  00000645', 'BND 00000022', 'BNC 00000020', 'BNC 00000020', 'BNC 00000020', 'BNC 00000020', 'CE  00000646', 'CE  00000647', 'CE  00000648', 'CE  00000649', 'RC  00000046', 'CE  00000662', 'CE  00000663', 'CE  00000650', 'CE  00000664', 'CE  00000651', 'CE  00000652', 'CE  00000653', 'CE  00000654', 'CE  00000655', 'CE  00000656', 'CE  00000657', 'CE  00000658', 'CE  00000659', 'CE  00000660', 'CE  00000661', 'CE  00000665', 'CE  00000666', 'CE  00000667', 'CE  00000668', 'CE  00000669', 'CE  00000670', 'CE  00000671', 'CE  00000672', 'CE  00000673', 'CE  00000674', 'CE  00000675', 'CE  00000676', 'CE  00000677', 'RC  00000047', 'BND 00000023', 'BNC 00000021', 'BNC 00000021', 'BNC 00000021', 'BNC 00000021', 'CE  00000678', 'CE  00000679', 'CE  00000680', 'CE  00000681', 'CE  00000682', 'CE  00000683', 'CE  00000684', 'CE  00000685', 'CE  00000686', 'CE  00000687', 'CE  00000688', 'CE  00000689', 'CE  00000690', 'CE  00000691', 'CE  00000692', 'CE  00000693', 'CE  00000694', 'CE  00000695', 'CE  00000696', 'CE  00000697', 'CE  00000698', 'CE  00000699', 'RC  00000048', 'RC  00000049', 'RC  00000050', 'RC  00000051', 'CE  00000711', 'CE  00000712', 'CE  00000713', 'CE  00000714', 'CE  00000715', 'CE  00000716', 'CE  00000717', 'CE  00000718', 'CE  00000719', 'CE  00000720', 'CE  00000721', 'CE  00000722', 'CE  00000723', 'CE  00000724', 'CE  00000725', 'CE  00000726', 'CE  00000727', 'CE  00000728', 'CE  00000729', 'CE  00000730', 'CE  00000731', 'CE  00000732', 'CE  00000733', 'CE  00000734', 'CE  00000735', 'CE  00000736', 'CE  00000737', 'CE  00000738', 'CE  00000739', 'CE  00000740', 'CE  00000741', 'CE  00000742', 'BND 00000025', 'BNC 00000023', 'BNC 00000023', 'BNC 00000023', 'BNC 00000023', 'CE  00000700', 'CE  00000701', 'CE  00000702', 'CE  00000703', 'CE  00000704', 'CE  00000705', 'CE  00000706', 'CE  00000707', 'CE  00000708', 'CE  00000709', 'CE  00000710', 'BNC 00000022', 'BNC 00000022', 'BNC 00000022', 'BNC 00000022', 'BNC 00000022', 'BND 00000024', 'CE  00000743', 'CE  00000744', 'CE  00000745', 'CE  00000746', 'CE  00000747', 'CE  00000748', 'CE  00000749', 'CE  00000750', 'CE  00000751', 'CE  00000752', 'CE  00000753', 'CE  00000754', 'CE  00000755', 'CE  00000756', 'CE  00000757', 'CE  00000758', 'CE  00000759', 'CE  00000760', 'CE  00000761', 'CE  00000762', 'CE  00000763', 'CE  00000764', 'CE  00000765', 'CE  00000766', 'CE  00000767', 'CE  00000768', 'CE  00000769', 'CE  00000770', 'CE  00000771', 'CE  00000772', 'CE  00000773', 'CE  00000774', 'CE  00000775', 'RC  00000052', 'RC  00000053', 'RC  00000055', 'RC  00000056', 'RC  00000057', 'CE  00000776', 'CE  00000777', 'CE  00000778', 'BNC 00000024', 'BNC 00000024', 'BNC 00000024', 'BNC 00000024', 'BND 00000026', 'CE  00000779', 'CE  00000780', 'CC  00000133']\n"
     ]
    }
   ],
   "source": [
    "import pandas as pd\n",
    "\n",
    "# Define cod_cont_fcd\n",
    "cod_cont_fcd = [110505, 112005]\n",
    "documentos_fcd = []\n",
    "\n",
    "for index, row in df_Mov_99.iterrows():\n",
    "    if row['CUENTA'] in cod_cont_fcd:\n",
    "        documentos_fcd.append(row['DOCUMENTO'])\n",
    "\n",
    "print(documentos_fcd)\n"
   ]
  },
  {
   "cell_type": "code",
   "execution_count": 7,
   "metadata": {},
   "outputs": [
    {
     "data": {
      "text/plain": [
       "442"
      ]
     },
     "execution_count": 7,
     "metadata": {},
     "output_type": "execute_result"
    }
   ],
   "source": [
    "num_elementos = len(documentos_fcd)\n",
    "num_elementos"
   ]
  },
  {
   "cell_type": "code",
   "execution_count": 8,
   "metadata": {},
   "outputs": [
    {
     "data": {
      "text/plain": [
       "62"
      ]
     },
     "execution_count": 8,
     "metadata": {},
     "output_type": "execute_result"
    }
   ],
   "source": [
    "#calcula el número de elementos repetidos\n",
    "from collections import Counter\n",
    "\n",
    "counter = Counter(documentos_fcd)\n",
    "repeated_elements = {element: count for element, count in counter.items() if count > 1}\n",
    "\n",
    "num_repeated_elements = sum(repeated_elements.values())\n",
    "num_repeated_elements"
   ]
  },
  {
   "cell_type": "code",
   "execution_count": 9,
   "metadata": {},
   "outputs": [
    {
     "data": {
      "text/plain": [
       "393"
      ]
     },
     "execution_count": 9,
     "metadata": {},
     "output_type": "execute_result"
    }
   ],
   "source": [
    "# Eliminar repetidos: los documentos tipo BNC y BNC se repiten en este\n",
    "documentos_fcd2 = list(set(documentos_fcd))\n",
    "num_elementos2 = len(documentos_fcd2)\n",
    "num_elementos2"
   ]
  },
  {
   "cell_type": "code",
   "execution_count": 10,
   "metadata": {},
   "outputs": [
    {
     "data": {
      "text/plain": [
       "0"
      ]
     },
     "execution_count": 10,
     "metadata": {},
     "output_type": "execute_result"
    }
   ],
   "source": [
    "# Verifica que no haya elementos repetidos\n",
    "from collections import Counter\n",
    "\n",
    "counter = Counter(documentos_fcd2)\n",
    "repeated_elements2 = {element: count for element, count in counter.items() if count > 1}\n",
    "\n",
    "num_repeated_elements2 = sum(repeated_elements2.values())\n",
    "num_repeated_elements2"
   ]
  },
  {
   "cell_type": "code",
   "execution_count": null,
   "metadata": {},
   "outputs": [],
   "source": []
  }
 ],
 "metadata": {
  "kernelspec": {
   "display_name": "env",
   "language": "python",
   "name": "python3"
  },
  "language_info": {
   "codemirror_mode": {
    "name": "ipython",
    "version": 3
   },
   "file_extension": ".py",
   "mimetype": "text/x-python",
   "name": "python",
   "nbconvert_exporter": "python",
   "pygments_lexer": "ipython3",
   "version": "3.10.7"
  }
 },
 "nbformat": 4,
 "nbformat_minor": 2
}
